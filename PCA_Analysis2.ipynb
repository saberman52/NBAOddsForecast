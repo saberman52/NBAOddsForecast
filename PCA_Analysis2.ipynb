{
 "cells": [
  {
   "cell_type": "code",
   "execution_count": 1,
   "id": "03110138",
   "metadata": {},
   "outputs": [],
   "source": [
    "import pandas as pd\n",
    "import numpy as np\n",
    "import matplotlib.pyplot as plt\n",
    "import matplotlib as mpl\n",
    "%matplotlib inline"
   ]
  },
  {
   "cell_type": "code",
   "execution_count": 2,
   "id": "90424d32",
   "metadata": {},
   "outputs": [],
   "source": [
    "# import my regular season data\n",
    "dfTeamData = pd.read_hdf('pyData/regSeasonData.h5')"
   ]
  },
  {
   "cell_type": "code",
   "execution_count": 3,
   "id": "f40ad7d5",
   "metadata": {},
   "outputs": [
    {
     "data": {
      "text/plain": [
       "(626, 42)"
      ]
     },
     "execution_count": 3,
     "metadata": {},
     "output_type": "execute_result"
    }
   ],
   "source": [
    "# Create np matrix containing all data\n",
    "teamDataMat = (dfTeamData.loc[:,'FG':'oppPTS']).to_numpy()\n",
    "teamDataMat.shape"
   ]
  },
  {
   "cell_type": "markdown",
   "id": "f7c77364",
   "metadata": {},
   "source": [
    "I have 42 stats and 626 data points. Let's see how many stats I can reduce this by using PCA."
   ]
  },
  {
   "cell_type": "code",
   "execution_count": 4,
   "id": "061abb22",
   "metadata": {},
   "outputs": [],
   "source": [
    "# Mean subtraction\n",
    "statMean = np.mean(teamDataMat,axis=0)\n",
    "teamDataZero = teamDataMat - statMean"
   ]
  },
  {
   "cell_type": "code",
   "execution_count": 5,
   "id": "a5acd620",
   "metadata": {},
   "outputs": [],
   "source": [
    "N = teamDataZero.shape[0]\n",
    "# covariance matrix\n",
    "covMat = 1/N*np.dot(teamDataZero.T,teamDataZero)\n",
    "\n",
    "# diagonlize\n",
    "covLam,covVec = np.linalg.eig(covMat)\n",
    "# get indexes of sorted eigenvalues\n",
    "inds = np.argsort(covLam)"
   ]
  },
  {
   "cell_type": "code",
   "execution_count": 6,
   "id": "1ec8ce87",
   "metadata": {},
   "outputs": [
    {
     "data": {
      "text/plain": [
       "array([40, 39, 41, 38, 37, 36, 35, 34, 32, 33, 31, 30, 29, 28, 27, 26, 25,\n",
       "       24, 23, 22, 21, 20, 19, 18, 17, 16, 15, 14, 13, 12, 11, 10,  9,  8,\n",
       "        7,  6,  5,  4,  3,  2,  1,  0])"
      ]
     },
     "execution_count": 6,
     "metadata": {},
     "output_type": "execute_result"
    }
   ],
   "source": [
    "inds"
   ]
  },
  {
   "cell_type": "code",
   "execution_count": 7,
   "id": "28d00365",
   "metadata": {
    "scrolled": false
   },
   "outputs": [
    {
     "data": {
      "text/plain": [
       "Text(0, 0.5, '$\\\\lambda_n$')"
      ]
     },
     "execution_count": 7,
     "metadata": {},
     "output_type": "execute_result"
    },
    {
     "data": {
      "image/png": "[encoded data removed]",
      "text/plain": [
       "<Figure size 432x288 with 1 Axes>"
      ]
     },
     "metadata": {
      "needs_background": "light"
     },
     "output_type": "display_data"
    }
   ],
   "source": [
    "# plot eigenvalues\n",
    "plt.figure()\n",
    "plt.plot(np.arange(inds.size),covLam[inds[::-1]],'.')\n",
    "plt.xlabel('$n$')\n",
    "plt.ylabel(r'$\\lambda_n$')"
   ]
  },
  {
   "cell_type": "code",
   "execution_count": 8,
   "id": "77fa8646",
   "metadata": {
    "scrolled": true
   },
   "outputs": [
    {
     "data": {
      "text/plain": [
       "Text(0, 0.5, '$(\\\\Sigma^n \\\\lambda_m)/(\\\\Sigma^N \\\\lambda_m)$')"
      ]
     },
     "execution_count": 8,
     "metadata": {},
     "output_type": "execute_result"
    },
    {
     "data": {
      "image/png": "[encoded data removed]",
      "text/plain": [
       "<Figure size 432x288 with 1 Axes>"
      ]
     },
     "metadata": {
      "needs_background": "light"
     },
     "output_type": "display_data"
    }
   ],
   "source": [
    "# plot normalized cumulative sum of eigenvalues\n",
    "lamSum = np.cumsum(covLam[inds[::-1]])\n",
    "totSum = np.sum(covLam)\n",
    "plt.figure()\n",
    "plt.plot(np.arange(covLam.size),lamSum/totSum,'.')\n",
    "plt.xlabel('$n$')\n",
    "plt.ylabel(r'$(\\Sigma^n \\lambda_m)/(\\Sigma^N \\lambda_m)$')"
   ]
  },
  {
   "cell_type": "markdown",
   "id": "8de842b7",
   "metadata": {},
   "source": [
    "First 5 eigenvectors account for 90% of variance. First 7 account for 95%."
   ]
  },
  {
   "cell_type": "code",
   "execution_count": 9,
   "id": "ce4c7fdc",
   "metadata": {
    "scrolled": true
   },
   "outputs": [
    {
     "data": {
      "text/plain": [
       "array([-1.25640537e-01, -2.08040699e-01, -3.69353404e-04, -1.66532117e-01,\n",
       "       -4.51423732e-01, -2.97505681e-04,  4.10348852e-02,  2.43326584e-01,\n",
       "       -1.32683885e-03,  2.36970281e-02,  4.54569017e-02, -4.65366835e-04,\n",
       "        4.16393552e-02, -1.08917405e-01, -6.72445930e-02, -7.67998719e-02,\n",
       "       -3.65932314e-03,  4.18999475e-03,  1.19905778e-02,  3.52873816e-02,\n",
       "       -3.94029586e-01, -1.29655080e-01, -2.18583035e-01, -3.65149773e-04,\n",
       "       -1.49082285e-01, -4.06759503e-01, -1.70889453e-04,  1.93243640e-02,\n",
       "        1.88247576e-01, -1.22841854e-03,  2.70578273e-02,  4.83299122e-02,\n",
       "       -4.19979692e-04,  3.13709042e-02, -1.14561234e-01, -8.30449379e-02,\n",
       "       -8.06392175e-02, -3.65836662e-03,  3.97332692e-03,  8.98930614e-03,\n",
       "        3.25915124e-02, -3.81276035e-01])"
      ]
     },
     "execution_count": 9,
     "metadata": {},
     "output_type": "execute_result"
    }
   ],
   "source": [
    "covVec[:,inds[-1]]"
   ]
  },
  {
   "cell_type": "code",
   "execution_count": 10,
   "id": "dadead14",
   "metadata": {},
   "outputs": [],
   "source": [
    "# plot first eigenvector\n",
    "categories = dfTeamData.columns\n",
    "categories = categories[2:].to_list() # names of each stat category (excluding Season and Tm)"
   ]
  },
  {
   "cell_type": "code",
   "execution_count": 11,
   "id": "b178f676",
   "metadata": {},
   "outputs": [
    {
     "data": {
      "text/plain": [
       "<BarContainer object of 42 artists>"
      ]
     },
     "execution_count": 11,
     "metadata": {},
     "output_type": "execute_result"
    },
    {
     "data": {
      "image/png": "[encoded data removed]",
      "text/plain": [
       "<Figure size 1440x345.6 with 1 Axes>"
      ]
     },
     "metadata": {
      "needs_background": "light"
     },
     "output_type": "display_data"
    }
   ],
   "source": [
    "plt.figure(figsize=(20,4.8))\n",
    "plt.bar(np.arange(len(categories)),covVec[:,inds[-1]],tick_label=categories)"
   ]
  },
  {
   "cell_type": "markdown",
   "id": "381c0a98",
   "metadata": {},
   "source": [
    "This is too hard to read. Let me look at distribution of magnitudes of each component. "
   ]
  },
  {
   "cell_type": "code",
   "execution_count": 12,
   "id": "65fa566b",
   "metadata": {},
   "outputs": [
    {
     "data": {
      "text/plain": [
       "(array([21., 10.,  4.,  1.,  2.,  2.,  1.,  0.,  0.,  1.]),\n",
       " array([1.29519717e-04, 5.82082659e-02, 1.16287012e-01, 1.74365758e-01,\n",
       "        2.32444504e-01, 2.90523251e-01, 3.48601997e-01, 4.06680743e-01,\n",
       "        4.64759489e-01, 5.22838235e-01, 5.80916982e-01]),\n",
       " <BarContainer object of 10 artists>)"
      ]
     },
     "execution_count": 12,
     "metadata": {},
     "output_type": "execute_result"
    },
    {
     "data": {
      "image/png": "[encoded data removed]",
      "text/plain": [
       "<Figure size 432x288 with 1 Axes>"
      ]
     },
     "metadata": {
      "needs_background": "light"
     },
     "output_type": "display_data"
    }
   ],
   "source": [
    "plt.figure()\n",
    "plt.hist(np.abs(covVec[:,inds[-3]]))"
   ]
  },
  {
   "cell_type": "markdown",
   "id": "a1ce9fc8",
   "metadata": {},
   "source": [
    "Let me look at components whose magnitude is in top 10."
   ]
  },
  {
   "cell_type": "code",
   "execution_count": 13,
   "id": "492fbbb1",
   "metadata": {},
   "outputs": [],
   "source": [
    "def visualizeVector(covVec,vecName=''):\n",
    "    # sort covariance eigenvector by component magnitudes\n",
    "    covInds = np.argsort(np.abs(covVec))\n",
    "    # plot bar graph of top N components\n",
    "    topN = 10\n",
    "    labels = [categories[i] for i in covInds[-1:(-topN-1):-1]]\n",
    "    vecVals = covVec[covInds[-1:(-topN-1):-1]]\n",
    "    plt.figure()\n",
    "    plt.bar(1.5*np.arange(topN),vecVals,tick_label=labels)\n",
    "    plt.title('Covariance vector'+vecName)"
   ]
  },
  {
   "cell_type": "code",
   "execution_count": 14,
   "id": "b70e04a9",
   "metadata": {
    "scrolled": true
   },
   "outputs": [
    {
     "data": {
      "image/png": "[encoded data removed]",
      "text/plain": [
       "<Figure size 432x288 with 1 Axes>"
      ]
     },
     "metadata": {
      "needs_background": "light"
     },
     "output_type": "display_data"
    },
    {
     "data": {
      "image/png": "[encoded data removed]",
      "text/plain": [
       "<Figure size 432x288 with 1 Axes>"
      ]
     },
     "metadata": {
      "needs_background": "light"
     },
     "output_type": "display_data"
    },
    {
     "data": {
      "image/png": "[encoded data removed]",
      "text/plain": [
       "<Figure size 432x288 with 1 Axes>"
      ]
     },
     "metadata": {
      "needs_background": "light"
     },
     "output_type": "display_data"
    },
    {
     "data": {
      "image/png": "[encoded data removed]",
      "text/plain": [
       "<Figure size 432x288 with 1 Axes>"
      ]
     },
     "metadata": {
      "needs_background": "light"
     },
     "output_type": "display_data"
    },
    {
     "data": {
      "image/png": "[encoded data removed]",
      "text/plain": [
       "<Figure size 432x288 with 1 Axes>"
      ]
     },
     "metadata": {
      "needs_background": "light"
     },
     "output_type": "display_data"
    },
    {
     "data": {
      "image/png": "[encoded data removed]",
      "text/plain": [
       "<Figure size 432x288 with 1 Axes>"
      ]
     },
     "metadata": {
      "needs_background": "light"
     },
     "output_type": "display_data"
    },
    {
     "data": {
      "image/png": "[encoded data removed]",
      "text/plain": [
       "<Figure size 432x288 with 1 Axes>"
      ]
     },
     "metadata": {
      "needs_background": "light"
     },
     "output_type": "display_data"
    }
   ],
   "source": [
    "for i in range(1,8):\n",
    "    visualizeVector(covVec[:,inds[-i]],' # '+str(i))"
   ]
  },
  {
   "cell_type": "markdown",
   "id": "2c8ec950",
   "metadata": {},
   "source": [
    "Potential interpretations for the covariance eigenvectors:\n",
    "1. Score inside, block outside\n",
    "    - positive --> scoring inside perimeter with strong perimeter defense\n",
    "    - negative --> scoring outside perimeter, weak perimeter defense\n",
    "2. Try outside, block inside\n",
    "    - positive --> lots of shot attempts from outside perimeter, while effectively defending inside of perimeter\n",
    "    - negative --> focusing scoring attempts and success inside perimeter, but bad defense inside perimeter\n",
    "3. aggression, frustration, intensity? Mismatch between two teams?\n",
    "    - seems to have same stats O and D with about same magnitude but opposite sign, but not in same direction each time\n",
    "4. Physicality, contact - on both sides of the floor\n",
    "    - positive - more contact, physicality\n",
    "    - negative less\n",
    "5. Squandering the ball\n",
    "    - positive - opponents dominate the glass while you fail to score or move the ball\n",
    "    - negative - you score, move the ball, and keep opponents off the glass\n",
    "6. Foul trouble\n",
    "    - positive - you foul a lot, while not getting fouled, you move the ball\n",
    "    - negative - draw a lot of contact without fouling back, less ball movement\n",
    "7. Playing like it's the all-star game\n",
    "    - positive - Not much rebounding, but a lot of scoring\n",
    "    - negative - a lof of rebounding at the cost of scoring\n",
    "\n",
    "Surprising omissions:\n",
    "- Shooting percentages did not make top 10 stats of any the top covariance vectors.\n",
    "- Steals, blocks, turnovers all hidden out of top 10"
   ]
  },
  {
   "cell_type": "markdown",
   "id": "0af4edcd",
   "metadata": {},
   "source": [
    "Another question---are there any stats which are virtually uncorrelated from all the other stats?"
   ]
  },
  {
   "cell_type": "code",
   "execution_count": 15,
   "id": "4273320e",
   "metadata": {},
   "outputs": [
    {
     "name": "stdout",
     "output_type": "stream",
     "text": [
      "[4.90794619e-07 9.90139411e-02 1.98027391e-01 2.97040842e-01\n",
      " 3.96054292e-01 4.95067742e-01 5.94081192e-01 6.93094643e-01\n",
      " 7.92108093e-01 8.91121543e-01 9.90134994e-01]\n",
      "[1.20e+03 3.04e+02 1.43e+02 6.90e+01 2.10e+01 1.30e+01 5.00e+00 0.00e+00\n",
      " 1.00e+00 8.00e+00]\n"
     ]
    },
    {
     "data": {
      "image/png": "[encoded data removed]",
      "text/plain": [
       "<Figure size 432x288 with 1 Axes>"
      ]
     },
     "metadata": {
      "needs_background": "light"
     },
     "output_type": "display_data"
    }
   ],
   "source": [
    "plt.figure()\n",
    "hist, binEdges, patches = plt.hist(np.abs(covVec.flatten()))\n",
    "plt.xlabel('vector components')\n",
    "plt.ylabel('count')\n",
    "print(binEdges)\n",
    "print(hist)"
   ]
  },
  {
   "cell_type": "markdown",
   "id": "f35536d2",
   "metadata": {},
   "source": [
    "There are 8 components which are between 0.89 and 0.99---because of normalization, they must belong to 8 separate eigenvectors. Would be good to know which stats these are that are virtually uncorrelated from all the others."
   ]
  },
  {
   "cell_type": "code",
   "execution_count": 16,
   "id": "94b71f16",
   "metadata": {
    "scrolled": true
   },
   "outputs": [
    {
     "name": "stdout",
     "output_type": "stream",
     "text": [
      "<class 'numpy.ndarray'>\n"
     ]
    },
    {
     "data": {
      "image/png": "[encoded data removed]",
      "text/plain": [
       "<Figure size 432x288 with 1 Axes>"
      ]
     },
     "metadata": {
      "needs_background": "light"
     },
     "output_type": "display_data"
    },
    {
     "data": {
      "image/png": "[encoded data removed]",
      "text/plain": [
       "<Figure size 432x288 with 1 Axes>"
      ]
     },
     "metadata": {
      "needs_background": "light"
     },
     "output_type": "display_data"
    },
    {
     "data": {
      "image/png": "[encoded data removed]",
      "text/plain": [
       "<Figure size 432x288 with 1 Axes>"
      ]
     },
     "metadata": {
      "needs_background": "light"
     },
     "output_type": "display_data"
    },
    {
     "data": {
      "image/png": "[encoded data removed]",
      "text/plain": [
       "<Figure size 432x288 with 1 Axes>"
      ]
     },
     "metadata": {
      "needs_background": "light"
     },
     "output_type": "display_data"
    },
    {
     "data": {
      "image/png": "[encoded data removed]",
      "text/plain": [
       "<Figure size 432x288 with 1 Axes>"
      ]
     },
     "metadata": {
      "needs_background": "light"
     },
     "output_type": "display_data"
    },
    {
     "data": {
      "image/png": "[encoded data removed]",
      "text/plain": [
       "<Figure size 432x288 with 1 Axes>"
      ]
     },
     "metadata": {
      "needs_background": "light"
     },
     "output_type": "display_data"
    },
    {
     "data": {
      "image/png": "[encoded data removed]",
      "text/plain": [
       "<Figure size 432x288 with 1 Axes>"
      ]
     },
     "metadata": {
      "needs_background": "light"
     },
     "output_type": "display_data"
    },
    {
     "data": {
      "image/png": "[encoded data removed]",
      "text/plain": [
       "<Figure size 432x288 with 1 Axes>"
      ]
     },
     "metadata": {
      "needs_background": "light"
     },
     "output_type": "display_data"
    }
   ],
   "source": [
    "# find max abs of each vector\n",
    "maxes = np.abs(covVec).max(axis=0)\n",
    "maxInds = maxes >= 0.89\n",
    "print(type(maxInds))\n",
    "selectedVecs = covVec[:,maxInds]\n",
    "for i in range(selectedVecs.shape[1]):\n",
    "    # TODO: make the string displayed here show the rank of the corresponding eigenvalue\n",
    "    visualizeVector(selectedVecs[:,i],' '+str(i))"
   ]
  },
  {
   "cell_type": "markdown",
   "id": "d4b611f4",
   "metadata": {},
   "source": [
    "Very interesting! The tendency is that\n",
    "1. Each shooting accuracy stat is mostly uncorrelated for all other stats, and\n",
    "2. the most significant correlations are with other shooting accuracy stats.\n",
    "\n",
    "I believe these are some of the lowest ranked covariance eigenvectors as well. So, apparently,\n",
    "1. there is a lot less variation in season-average shooting percentages among teams compared with other statistical categories, and\n",
    "2. shooting percentages as a group are mostly independent of all other statistical categories.\n",
    "\n",
    "This is somewhat surprising---I would have at least expected a strong correlation between the percentage on a certain shot and actual makes of the same shot, but even these correlations are very feeble. There is a lot more variation accounted for by shot attempts and makes. Of course, this does not necessarily mean one or the other stat will have better predictive power. My approach is assuming that the top PCs will also have the most predictive capacity. However, is it possible that top PCs are top because they are subject to the most noise, as opposed to having the most \"signal,\" in terms of predictive capacity?"
   ]
  },
  {
   "cell_type": "markdown",
   "id": "bede7e81",
   "metadata": {},
   "source": [
    "Make a data frame where columns are each teams projection into PCA basis, which can be used for multi bar graph. "
   ]
  },
  {
   "cell_type": "code",
   "execution_count": 17,
   "id": "e5eb33b7",
   "metadata": {},
   "outputs": [
    {
     "data": {
      "text/plain": [
       "(42, 7)"
      ]
     },
     "execution_count": 17,
     "metadata": {},
     "output_type": "execute_result"
    }
   ],
   "source": [
    "nBasis = 7 # number of top PCA vectors to use\n",
    "PCABasis = covVec[:,inds[-1:(-nBasis-1):-1]] # pick out basis vectors\n",
    "PCABasis.shape\n"
   ]
  },
  {
   "cell_type": "code",
   "execution_count": 18,
   "id": "8dbe6612",
   "metadata": {},
   "outputs": [
    {
     "data": {
      "text/plain": [
       "(626, 7)"
      ]
     },
     "execution_count": 18,
     "metadata": {},
     "output_type": "execute_result"
    }
   ],
   "source": [
    "teamDataPCA = np.dot(teamDataZero,PCABasis) # project team data onto PCA basis\n",
    "teamDataPCA.shape"
   ]
  },
  {
   "cell_type": "code",
   "execution_count": 19,
   "id": "bcaa71b8",
   "metadata": {},
   "outputs": [
    {
     "data": {
      "text/html": [
       "<div>\n",
       "<style scoped>\n",
       "    .dataframe tbody tr th:only-of-type {\n",
       "        vertical-align: middle;\n",
       "    }\n",
       "\n",
       "    .dataframe tbody tr th {\n",
       "        vertical-align: top;\n",
       "    }\n",
       "\n",
       "    .dataframe thead th {\n",
       "        text-align: right;\n",
       "    }\n",
       "</style>\n",
       "<table border=\"1\" class=\"dataframe\">\n",
       "  <thead>\n",
       "    <tr style=\"text-align: right;\">\n",
       "      <th></th>\n",
       "      <th>Season</th>\n",
       "      <th>Tm</th>\n",
       "    </tr>\n",
       "  </thead>\n",
       "  <tbody>\n",
       "    <tr>\n",
       "      <th>16</th>\n",
       "      <td>2004-05</td>\n",
       "      <td>DAL</td>\n",
       "    </tr>\n",
       "    <tr>\n",
       "      <th>17</th>\n",
       "      <td>2003-04</td>\n",
       "      <td>DAL</td>\n",
       "    </tr>\n",
       "    <tr>\n",
       "      <th>18</th>\n",
       "      <td>2002-03</td>\n",
       "      <td>DAL</td>\n",
       "    </tr>\n",
       "    <tr>\n",
       "      <th>19</th>\n",
       "      <td>2001-02</td>\n",
       "      <td>DAL</td>\n",
       "    </tr>\n",
       "    <tr>\n",
       "      <th>20</th>\n",
       "      <td>2000-01</td>\n",
       "      <td>DAL</td>\n",
       "    </tr>\n",
       "  </tbody>\n",
       "</table>\n",
       "</div>"
      ],
      "text/plain": [
       "     Season   Tm\n",
       "16  2004-05  DAL\n",
       "17  2003-04  DAL\n",
       "18  2002-03  DAL\n",
       "19  2001-02  DAL\n",
       "20  2000-01  DAL"
      ]
     },
     "execution_count": 19,
     "metadata": {},
     "output_type": "execute_result"
    }
   ],
   "source": [
    "dfTeamData.loc[:,'Season':'Tm'].tail()"
   ]
  },
  {
   "cell_type": "code",
   "execution_count": 20,
   "id": "651ae828",
   "metadata": {},
   "outputs": [
    {
     "data": {
      "text/html": [
       "<div>\n",
       "<style scoped>\n",
       "    .dataframe tbody tr th:only-of-type {\n",
       "        vertical-align: middle;\n",
       "    }\n",
       "\n",
       "    .dataframe tbody tr th {\n",
       "        vertical-align: top;\n",
       "    }\n",
       "\n",
       "    .dataframe thead th {\n",
       "        text-align: right;\n",
       "    }\n",
       "</style>\n",
       "<table border=\"1\" class=\"dataframe\">\n",
       "  <thead>\n",
       "    <tr style=\"text-align: right;\">\n",
       "      <th></th>\n",
       "      <th>Season</th>\n",
       "      <th>Tm</th>\n",
       "      <th>1</th>\n",
       "      <th>2</th>\n",
       "      <th>3</th>\n",
       "      <th>4</th>\n",
       "      <th>5</th>\n",
       "      <th>6</th>\n",
       "      <th>7</th>\n",
       "    </tr>\n",
       "  </thead>\n",
       "  <tbody>\n",
       "    <tr>\n",
       "      <th>0</th>\n",
       "      <td>2020-21</td>\n",
       "      <td>OKC</td>\n",
       "      <td>-32.027865</td>\n",
       "      <td>2.535006</td>\n",
       "      <td>-4.762177</td>\n",
       "      <td>-5.166605</td>\n",
       "      <td>6.907563</td>\n",
       "      <td>-5.927464</td>\n",
       "      <td>-2.866416</td>\n",
       "    </tr>\n",
       "    <tr>\n",
       "      <th>1</th>\n",
       "      <td>2019-20</td>\n",
       "      <td>OKC</td>\n",
       "      <td>-23.401911</td>\n",
       "      <td>1.493643</td>\n",
       "      <td>0.045024</td>\n",
       "      <td>0.308754</td>\n",
       "      <td>-2.211891</td>\n",
       "      <td>-5.811204</td>\n",
       "      <td>-0.119296</td>\n",
       "    </tr>\n",
       "    <tr>\n",
       "      <th>2</th>\n",
       "      <td>2018-19</td>\n",
       "      <td>OKC</td>\n",
       "      <td>-27.196824</td>\n",
       "      <td>-7.553363</td>\n",
       "      <td>-0.795859</td>\n",
       "      <td>0.733566</td>\n",
       "      <td>-3.809104</td>\n",
       "      <td>3.749856</td>\n",
       "      <td>-5.360385</td>\n",
       "    </tr>\n",
       "    <tr>\n",
       "      <th>3</th>\n",
       "      <td>2017-18</td>\n",
       "      <td>OKC</td>\n",
       "      <td>-18.258326</td>\n",
       "      <td>4.667378</td>\n",
       "      <td>-3.629863</td>\n",
       "      <td>0.204161</td>\n",
       "      <td>-4.331368</td>\n",
       "      <td>-0.215230</td>\n",
       "      <td>-2.312704</td>\n",
       "    </tr>\n",
       "    <tr>\n",
       "      <th>4</th>\n",
       "      <td>2016-17</td>\n",
       "      <td>OKC</td>\n",
       "      <td>-10.405980</td>\n",
       "      <td>-3.723964</td>\n",
       "      <td>0.672684</td>\n",
       "      <td>1.655268</td>\n",
       "      <td>-2.962475</td>\n",
       "      <td>-0.269232</td>\n",
       "      <td>-2.766122</td>\n",
       "    </tr>\n",
       "  </tbody>\n",
       "</table>\n",
       "</div>"
      ],
      "text/plain": [
       "    Season   Tm          1         2         3         4         5         6  \\\n",
       "0  2020-21  OKC -32.027865  2.535006 -4.762177 -5.166605  6.907563 -5.927464   \n",
       "1  2019-20  OKC -23.401911  1.493643  0.045024  0.308754 -2.211891 -5.811204   \n",
       "2  2018-19  OKC -27.196824 -7.553363 -0.795859  0.733566 -3.809104  3.749856   \n",
       "3  2017-18  OKC -18.258326  4.667378 -3.629863  0.204161 -4.331368 -0.215230   \n",
       "4  2016-17  OKC -10.405980 -3.723964  0.672684  1.655268 -2.962475 -0.269232   \n",
       "\n",
       "          7  \n",
       "0 -2.866416  \n",
       "1 -0.119296  \n",
       "2 -5.360385  \n",
       "3 -2.312704  \n",
       "4 -2.766122  "
      ]
     },
     "execution_count": 20,
     "metadata": {},
     "output_type": "execute_result"
    }
   ],
   "source": [
    "# create keys\n",
    "keys = ['Season','Tm'] + list(range(1,nBasis+1))\n",
    "# create values\n",
    "values = [dfTeamData['Season'].to_list(),\n",
    "          dfTeamData['Tm'].to_list()]\n",
    "for i in range(nBasis):\n",
    "    values.append(teamDataPCA[:,i])\n",
    "teamPCADict = dict(zip(keys,values)) # data mapping\n",
    "dfTeamPCA = pd.DataFrame(teamPCADict)\n",
    "dfTeamPCA.head()"
   ]
  },
  {
   "cell_type": "markdown",
   "id": "fbdbf8af",
   "metadata": {},
   "source": [
    "Make a graph of some of the teams' PCA projections from the 2020-2021 season"
   ]
  },
  {
   "cell_type": "code",
   "execution_count": 21,
   "id": "aff00a91",
   "metadata": {},
   "outputs": [
    {
     "data": {
      "text/plain": [
       "'2020-21'"
      ]
     },
     "execution_count": 21,
     "metadata": {},
     "output_type": "execute_result"
    }
   ],
   "source": [
    "dfTeamPCA.loc[0,'Season']"
   ]
  },
  {
   "cell_type": "code",
   "execution_count": 22,
   "id": "e8b8fb39",
   "metadata": {},
   "outputs": [
    {
     "data": {
      "text/html": [
       "<div>\n",
       "<style scoped>\n",
       "    .dataframe tbody tr th:only-of-type {\n",
       "        vertical-align: middle;\n",
       "    }\n",
       "\n",
       "    .dataframe tbody tr th {\n",
       "        vertical-align: top;\n",
       "    }\n",
       "\n",
       "    .dataframe thead th {\n",
       "        text-align: right;\n",
       "    }\n",
       "</style>\n",
       "<table border=\"1\" class=\"dataframe\">\n",
       "  <thead>\n",
       "    <tr style=\"text-align: right;\">\n",
       "      <th></th>\n",
       "      <th>Season</th>\n",
       "      <th>Tm</th>\n",
       "      <th>1</th>\n",
       "      <th>2</th>\n",
       "      <th>3</th>\n",
       "      <th>4</th>\n",
       "      <th>5</th>\n",
       "      <th>6</th>\n",
       "      <th>7</th>\n",
       "    </tr>\n",
       "  </thead>\n",
       "  <tbody>\n",
       "    <tr>\n",
       "      <th>0</th>\n",
       "      <td>2020-21</td>\n",
       "      <td>OKC</td>\n",
       "      <td>-32.027865</td>\n",
       "      <td>2.535006</td>\n",
       "      <td>-4.762177</td>\n",
       "      <td>-5.166605</td>\n",
       "      <td>6.907563</td>\n",
       "      <td>-5.927464</td>\n",
       "      <td>-2.866416</td>\n",
       "    </tr>\n",
       "    <tr>\n",
       "      <th>21</th>\n",
       "      <td>2020-21</td>\n",
       "      <td>LAC</td>\n",
       "      <td>-28.151684</td>\n",
       "      <td>7.299404</td>\n",
       "      <td>0.851785</td>\n",
       "      <td>-1.033189</td>\n",
       "      <td>-4.107081</td>\n",
       "      <td>1.026468</td>\n",
       "      <td>3.964831</td>\n",
       "    </tr>\n",
       "    <tr>\n",
       "      <th>42</th>\n",
       "      <td>2020-21</td>\n",
       "      <td>CHI</td>\n",
       "      <td>-28.185703</td>\n",
       "      <td>2.180484</td>\n",
       "      <td>-1.720908</td>\n",
       "      <td>-4.027932</td>\n",
       "      <td>-0.588262</td>\n",
       "      <td>2.706277</td>\n",
       "      <td>3.334578</td>\n",
       "    </tr>\n",
       "    <tr>\n",
       "      <th>63</th>\n",
       "      <td>2020-21</td>\n",
       "      <td>CLE</td>\n",
       "      <td>-21.503647</td>\n",
       "      <td>2.080809</td>\n",
       "      <td>-6.327890</td>\n",
       "      <td>-1.878451</td>\n",
       "      <td>3.431596</td>\n",
       "      <td>-5.029743</td>\n",
       "      <td>1.388255</td>\n",
       "    </tr>\n",
       "    <tr>\n",
       "      <th>84</th>\n",
       "      <td>2020-21</td>\n",
       "      <td>NOP</td>\n",
       "      <td>-31.705496</td>\n",
       "      <td>-4.029019</td>\n",
       "      <td>-7.264824</td>\n",
       "      <td>1.336803</td>\n",
       "      <td>-7.905472</td>\n",
       "      <td>-5.187911</td>\n",
       "      <td>-0.955325</td>\n",
       "    </tr>\n",
       "    <tr>\n",
       "      <th>103</th>\n",
       "      <td>2020-21</td>\n",
       "      <td>SAC</td>\n",
       "      <td>-31.005409</td>\n",
       "      <td>-4.332712</td>\n",
       "      <td>-1.501050</td>\n",
       "      <td>0.544153</td>\n",
       "      <td>2.430813</td>\n",
       "      <td>-0.175410</td>\n",
       "      <td>6.071753</td>\n",
       "    </tr>\n",
       "    <tr>\n",
       "      <th>124</th>\n",
       "      <td>2020-21</td>\n",
       "      <td>MIA</td>\n",
       "      <td>-31.069083</td>\n",
       "      <td>15.793501</td>\n",
       "      <td>-7.813896</td>\n",
       "      <td>1.197299</td>\n",
       "      <td>-1.804341</td>\n",
       "      <td>-3.221091</td>\n",
       "      <td>2.144116</td>\n",
       "    </tr>\n",
       "    <tr>\n",
       "      <th>145</th>\n",
       "      <td>2020-21</td>\n",
       "      <td>GSW</td>\n",
       "      <td>-34.841105</td>\n",
       "      <td>4.888057</td>\n",
       "      <td>0.796552</td>\n",
       "      <td>3.219079</td>\n",
       "      <td>2.539509</td>\n",
       "      <td>4.594813</td>\n",
       "      <td>0.184762</td>\n",
       "    </tr>\n",
       "    <tr>\n",
       "      <th>166</th>\n",
       "      <td>2020-21</td>\n",
       "      <td>LAL</td>\n",
       "      <td>-22.620407</td>\n",
       "      <td>4.469835</td>\n",
       "      <td>-1.901153</td>\n",
       "      <td>-0.275525</td>\n",
       "      <td>-3.897805</td>\n",
       "      <td>-2.239540</td>\n",
       "      <td>0.370130</td>\n",
       "    </tr>\n",
       "    <tr>\n",
       "      <th>187</th>\n",
       "      <td>2020-21</td>\n",
       "      <td>POR</td>\n",
       "      <td>-37.759308</td>\n",
       "      <td>4.447860</td>\n",
       "      <td>1.273271</td>\n",
       "      <td>1.878345</td>\n",
       "      <td>2.083885</td>\n",
       "      <td>1.321922</td>\n",
       "      <td>0.777341</td>\n",
       "    </tr>\n",
       "    <tr>\n",
       "      <th>208</th>\n",
       "      <td>2020-21</td>\n",
       "      <td>PHO</td>\n",
       "      <td>-29.620418</td>\n",
       "      <td>3.686188</td>\n",
       "      <td>-0.266614</td>\n",
       "      <td>-1.653577</td>\n",
       "      <td>-4.588898</td>\n",
       "      <td>3.665524</td>\n",
       "      <td>5.697901</td>\n",
       "    </tr>\n",
       "    <tr>\n",
       "      <th>229</th>\n",
       "      <td>2020-21</td>\n",
       "      <td>NYK</td>\n",
       "      <td>-22.157246</td>\n",
       "      <td>7.781060</td>\n",
       "      <td>-7.262336</td>\n",
       "      <td>-2.484035</td>\n",
       "      <td>-3.501808</td>\n",
       "      <td>-0.150039</td>\n",
       "      <td>-3.150017</td>\n",
       "    </tr>\n",
       "    <tr>\n",
       "      <th>250</th>\n",
       "      <td>2020-21</td>\n",
       "      <td>PHI</td>\n",
       "      <td>-24.186018</td>\n",
       "      <td>0.717005</td>\n",
       "      <td>-2.121260</td>\n",
       "      <td>3.364775</td>\n",
       "      <td>-6.673826</td>\n",
       "      <td>-1.091050</td>\n",
       "      <td>-1.048048</td>\n",
       "    </tr>\n",
       "    <tr>\n",
       "      <th>271</th>\n",
       "      <td>2020-21</td>\n",
       "      <td>MIN</td>\n",
       "      <td>-34.314970</td>\n",
       "      <td>-1.685733</td>\n",
       "      <td>-1.410275</td>\n",
       "      <td>2.330497</td>\n",
       "      <td>4.947296</td>\n",
       "      <td>0.690350</td>\n",
       "      <td>0.617033</td>\n",
       "    </tr>\n",
       "    <tr>\n",
       "      <th>292</th>\n",
       "      <td>2020-21</td>\n",
       "      <td>BOS</td>\n",
       "      <td>-30.805791</td>\n",
       "      <td>5.816805</td>\n",
       "      <td>-3.437022</td>\n",
       "      <td>2.148556</td>\n",
       "      <td>-1.483477</td>\n",
       "      <td>2.608063</td>\n",
       "      <td>1.017542</td>\n",
       "    </tr>\n",
       "    <tr>\n",
       "      <th>313</th>\n",
       "      <td>2020-21</td>\n",
       "      <td>IND</td>\n",
       "      <td>-31.139596</td>\n",
       "      <td>-7.270364</td>\n",
       "      <td>1.682555</td>\n",
       "      <td>-1.813063</td>\n",
       "      <td>1.289052</td>\n",
       "      <td>3.694251</td>\n",
       "      <td>3.647105</td>\n",
       "    </tr>\n",
       "    <tr>\n",
       "      <th>334</th>\n",
       "      <td>2020-21</td>\n",
       "      <td>MIL</td>\n",
       "      <td>-40.654515</td>\n",
       "      <td>-1.538496</td>\n",
       "      <td>0.326255</td>\n",
       "      <td>-4.289107</td>\n",
       "      <td>-7.582208</td>\n",
       "      <td>-1.524863</td>\n",
       "      <td>0.435339</td>\n",
       "    </tr>\n",
       "    <tr>\n",
       "      <th>355</th>\n",
       "      <td>2020-21</td>\n",
       "      <td>TOR</td>\n",
       "      <td>-34.307597</td>\n",
       "      <td>10.532497</td>\n",
       "      <td>-6.499299</td>\n",
       "      <td>5.152460</td>\n",
       "      <td>2.384441</td>\n",
       "      <td>3.735521</td>\n",
       "      <td>-0.170933</td>\n",
       "    </tr>\n",
       "    <tr>\n",
       "      <th>376</th>\n",
       "      <td>2020-21</td>\n",
       "      <td>MEM</td>\n",
       "      <td>-29.426571</td>\n",
       "      <td>-4.282042</td>\n",
       "      <td>-5.614030</td>\n",
       "      <td>-3.569968</td>\n",
       "      <td>-5.156236</td>\n",
       "      <td>2.265608</td>\n",
       "      <td>-0.533624</td>\n",
       "    </tr>\n",
       "    <tr>\n",
       "      <th>397</th>\n",
       "      <td>2020-21</td>\n",
       "      <td>BRK</td>\n",
       "      <td>-36.493825</td>\n",
       "      <td>0.976596</td>\n",
       "      <td>1.934215</td>\n",
       "      <td>1.998773</td>\n",
       "      <td>-4.159569</td>\n",
       "      <td>-1.479905</td>\n",
       "      <td>3.688379</td>\n",
       "    </tr>\n",
       "    <tr>\n",
       "      <th>418</th>\n",
       "      <td>2020-21</td>\n",
       "      <td>UTA</td>\n",
       "      <td>-35.378215</td>\n",
       "      <td>9.637645</td>\n",
       "      <td>12.956596</td>\n",
       "      <td>-1.805274</td>\n",
       "      <td>-1.239691</td>\n",
       "      <td>-1.278123</td>\n",
       "      <td>-1.099703</td>\n",
       "    </tr>\n",
       "    <tr>\n",
       "      <th>439</th>\n",
       "      <td>2020-21</td>\n",
       "      <td>DET</td>\n",
       "      <td>-23.774266</td>\n",
       "      <td>4.012649</td>\n",
       "      <td>-1.556864</td>\n",
       "      <td>1.565943</td>\n",
       "      <td>3.990748</td>\n",
       "      <td>-2.723444</td>\n",
       "      <td>0.641060</td>\n",
       "    </tr>\n",
       "    <tr>\n",
       "      <th>460</th>\n",
       "      <td>2020-21</td>\n",
       "      <td>ORL</td>\n",
       "      <td>-27.757218</td>\n",
       "      <td>1.491087</td>\n",
       "      <td>-8.133598</td>\n",
       "      <td>-6.720922</td>\n",
       "      <td>4.098629</td>\n",
       "      <td>-5.278065</td>\n",
       "      <td>-3.503010</td>\n",
       "    </tr>\n",
       "    <tr>\n",
       "      <th>481</th>\n",
       "      <td>2020-21</td>\n",
       "      <td>ATL</td>\n",
       "      <td>-29.201307</td>\n",
       "      <td>1.240640</td>\n",
       "      <td>0.155353</td>\n",
       "      <td>1.636119</td>\n",
       "      <td>-3.195336</td>\n",
       "      <td>-3.635719</td>\n",
       "      <td>0.368526</td>\n",
       "    </tr>\n",
       "    <tr>\n",
       "      <th>502</th>\n",
       "      <td>2020-21</td>\n",
       "      <td>CHO</td>\n",
       "      <td>-34.753454</td>\n",
       "      <td>8.978007</td>\n",
       "      <td>-6.712520</td>\n",
       "      <td>-2.650720</td>\n",
       "      <td>0.004403</td>\n",
       "      <td>-3.044504</td>\n",
       "      <td>0.391611</td>\n",
       "    </tr>\n",
       "    <tr>\n",
       "      <th>521</th>\n",
       "      <td>2020-21</td>\n",
       "      <td>WAS</td>\n",
       "      <td>-29.941295</td>\n",
       "      <td>-13.818075</td>\n",
       "      <td>-2.809008</td>\n",
       "      <td>3.890278</td>\n",
       "      <td>-2.588940</td>\n",
       "      <td>-0.353898</td>\n",
       "      <td>-0.420109</td>\n",
       "    </tr>\n",
       "    <tr>\n",
       "      <th>542</th>\n",
       "      <td>2020-21</td>\n",
       "      <td>SAS</td>\n",
       "      <td>-25.136019</td>\n",
       "      <td>-7.230248</td>\n",
       "      <td>-3.858342</td>\n",
       "      <td>-5.775438</td>\n",
       "      <td>-1.424407</td>\n",
       "      <td>-1.060104</td>\n",
       "      <td>1.133230</td>\n",
       "    </tr>\n",
       "    <tr>\n",
       "      <th>563</th>\n",
       "      <td>2020-21</td>\n",
       "      <td>DEN</td>\n",
       "      <td>-31.143322</td>\n",
       "      <td>4.099473</td>\n",
       "      <td>-5.712510</td>\n",
       "      <td>-0.180272</td>\n",
       "      <td>-6.932327</td>\n",
       "      <td>2.792159</td>\n",
       "      <td>3.675416</td>\n",
       "    </tr>\n",
       "    <tr>\n",
       "      <th>584</th>\n",
       "      <td>2020-21</td>\n",
       "      <td>HOU</td>\n",
       "      <td>-36.172214</td>\n",
       "      <td>5.837979</td>\n",
       "      <td>-1.463109</td>\n",
       "      <td>1.557126</td>\n",
       "      <td>9.113941</td>\n",
       "      <td>-1.076119</td>\n",
       "      <td>-0.155056</td>\n",
       "    </tr>\n",
       "    <tr>\n",
       "      <th>605</th>\n",
       "      <td>2020-21</td>\n",
       "      <td>DAL</td>\n",
       "      <td>-32.419929</td>\n",
       "      <td>9.198149</td>\n",
       "      <td>-1.033097</td>\n",
       "      <td>1.689042</td>\n",
       "      <td>-0.478117</td>\n",
       "      <td>0.431725</td>\n",
       "      <td>1.454609</td>\n",
       "    </tr>\n",
       "  </tbody>\n",
       "</table>\n",
       "</div>"
      ],
      "text/plain": [
       "      Season   Tm          1          2          3         4         5  \\\n",
       "0    2020-21  OKC -32.027865   2.535006  -4.762177 -5.166605  6.907563   \n",
       "21   2020-21  LAC -28.151684   7.299404   0.851785 -1.033189 -4.107081   \n",
       "42   2020-21  CHI -28.185703   2.180484  -1.720908 -4.027932 -0.588262   \n",
       "63   2020-21  CLE -21.503647   2.080809  -6.327890 -1.878451  3.431596   \n",
       "84   2020-21  NOP -31.705496  -4.029019  -7.264824  1.336803 -7.905472   \n",
       "103  2020-21  SAC -31.005409  -4.332712  -1.501050  0.544153  2.430813   \n",
       "124  2020-21  MIA -31.069083  15.793501  -7.813896  1.197299 -1.804341   \n",
       "145  2020-21  GSW -34.841105   4.888057   0.796552  3.219079  2.539509   \n",
       "166  2020-21  LAL -22.620407   4.469835  -1.901153 -0.275525 -3.897805   \n",
       "187  2020-21  POR -37.759308   4.447860   1.273271  1.878345  2.083885   \n",
       "208  2020-21  PHO -29.620418   3.686188  -0.266614 -1.653577 -4.588898   \n",
       "229  2020-21  NYK -22.157246   7.781060  -7.262336 -2.484035 -3.501808   \n",
       "250  2020-21  PHI -24.186018   0.717005  -2.121260  3.364775 -6.673826   \n",
       "271  2020-21  MIN -34.314970  -1.685733  -1.410275  2.330497  4.947296   \n",
       "292  2020-21  BOS -30.805791   5.816805  -3.437022  2.148556 -1.483477   \n",
       "313  2020-21  IND -31.139596  -7.270364   1.682555 -1.813063  1.289052   \n",
       "334  2020-21  MIL -40.654515  -1.538496   0.326255 -4.289107 -7.582208   \n",
       "355  2020-21  TOR -34.307597  10.532497  -6.499299  5.152460  2.384441   \n",
       "376  2020-21  MEM -29.426571  -4.282042  -5.614030 -3.569968 -5.156236   \n",
       "397  2020-21  BRK -36.493825   0.976596   1.934215  1.998773 -4.159569   \n",
       "418  2020-21  UTA -35.378215   9.637645  12.956596 -1.805274 -1.239691   \n",
       "439  2020-21  DET -23.774266   4.012649  -1.556864  1.565943  3.990748   \n",
       "460  2020-21  ORL -27.757218   1.491087  -8.133598 -6.720922  4.098629   \n",
       "481  2020-21  ATL -29.201307   1.240640   0.155353  1.636119 -3.195336   \n",
       "502  2020-21  CHO -34.753454   8.978007  -6.712520 -2.650720  0.004403   \n",
       "521  2020-21  WAS -29.941295 -13.818075  -2.809008  3.890278 -2.588940   \n",
       "542  2020-21  SAS -25.136019  -7.230248  -3.858342 -5.775438 -1.424407   \n",
       "563  2020-21  DEN -31.143322   4.099473  -5.712510 -0.180272 -6.932327   \n",
       "584  2020-21  HOU -36.172214   5.837979  -1.463109  1.557126  9.113941   \n",
       "605  2020-21  DAL -32.419929   9.198149  -1.033097  1.689042 -0.478117   \n",
       "\n",
       "            6         7  \n",
       "0   -5.927464 -2.866416  \n",
       "21   1.026468  3.964831  \n",
       "42   2.706277  3.334578  \n",
       "63  -5.029743  1.388255  \n",
       "84  -5.187911 -0.955325  \n",
       "103 -0.175410  6.071753  \n",
       "124 -3.221091  2.144116  \n",
       "145  4.594813  0.184762  \n",
       "166 -2.239540  0.370130  \n",
       "187  1.321922  0.777341  \n",
       "208  3.665524  5.697901  \n",
       "229 -0.150039 -3.150017  \n",
       "250 -1.091050 -1.048048  \n",
       "271  0.690350  0.617033  \n",
       "292  2.608063  1.017542  \n",
       "313  3.694251  3.647105  \n",
       "334 -1.524863  0.435339  \n",
       "355  3.735521 -0.170933  \n",
       "376  2.265608 -0.533624  \n",
       "397 -1.479905  3.688379  \n",
       "418 -1.278123 -1.099703  \n",
       "439 -2.723444  0.641060  \n",
       "460 -5.278065 -3.503010  \n",
       "481 -3.635719  0.368526  \n",
       "502 -3.044504  0.391611  \n",
       "521 -0.353898 -0.420109  \n",
       "542 -1.060104  1.133230  \n",
       "563  2.792159  3.675416  \n",
       "584 -1.076119 -0.155056  \n",
       "605  0.431725  1.454609  "
      ]
     },
     "execution_count": 22,
     "metadata": {},
     "output_type": "execute_result"
    }
   ],
   "source": [
    "dfTeamPCA2020 = dfTeamPCA[dfTeamPCA['Season'] == '2020-21']\n",
    "dfTeamPCA2020"
   ]
  },
  {
   "cell_type": "code",
   "execution_count": 23,
   "id": "cc9b4a4b",
   "metadata": {},
   "outputs": [
    {
     "data": {
      "text/plain": [
       "1   -30.588450\n",
       "2     2.450468\n",
       "3    -2.306840\n",
       "4    -0.327161\n",
       "5    -0.802864\n",
       "6    -0.498144\n",
       "7     0.903376\n",
       "dtype: float64"
      ]
     },
     "execution_count": 23,
     "metadata": {},
     "output_type": "execute_result"
    }
   ],
   "source": [
    "dfTeamPCA2020.mean()"
   ]
  },
  {
   "cell_type": "markdown",
   "id": "875c0926",
   "metadata": {},
   "source": [
    "There appears to be a strong correlation with first PCA component and time (i.e., season). Let me check for time variation of mean of each component for each season."
   ]
  },
  {
   "cell_type": "code",
   "execution_count": 24,
   "id": "0ba270ee",
   "metadata": {},
   "outputs": [
    {
     "data": {
      "text/plain": [
       "pandas.core.series.Series"
      ]
     },
     "execution_count": 24,
     "metadata": {},
     "output_type": "execute_result"
    }
   ],
   "source": [
    "meanSeries = dfTeamPCA[dfTeamPCA[\"Season\"] == '2020-21'].mean()\n",
    "type(dfTeamPCA[dfTeamPCA[\"Season\"] == '2020-21'].mean())"
   ]
  },
  {
   "cell_type": "code",
   "execution_count": 25,
   "id": "8d7840ff",
   "metadata": {},
   "outputs": [
    {
     "data": {
      "text/plain": [
       "Index([1, 2, 3, 4, 5, 6, 7], dtype='object')"
      ]
     },
     "execution_count": 25,
     "metadata": {},
     "output_type": "execute_result"
    }
   ],
   "source": [
    "meanSeries.index"
   ]
  },
  {
   "cell_type": "code",
   "execution_count": 26,
   "id": "a777d952",
   "metadata": {},
   "outputs": [
    {
     "data": {
      "text/plain": [
       "'2020-21'"
      ]
     },
     "execution_count": 26,
     "metadata": {},
     "output_type": "execute_result"
    }
   ],
   "source": [
    "meanSeries.name = '2020-21'\n",
    "meanSeries.name"
   ]
  },
  {
   "cell_type": "markdown",
   "id": "2da94787",
   "metadata": {},
   "source": [
    "I just realized I'm missing some data---the Seattle supersonics! Oh wait no---that's the team OKC used to be. So apparently NBA had only 29 teams from 2000-01 season to 2003-04 season, and starting in 2004-05 it bumped up to 30 teams."
   ]
  },
  {
   "cell_type": "code",
   "execution_count": 27,
   "id": "a1cb6c26",
   "metadata": {},
   "outputs": [],
   "source": [
    "# unique seasons\n",
    "seasons = pd.unique(dfTeamPCA[\"Season\"])"
   ]
  },
  {
   "cell_type": "code",
   "execution_count": 28,
   "id": "78774c9d",
   "metadata": {},
   "outputs": [],
   "source": [
    "meanSeries = []\n",
    "stdSeries = []\n",
    "for season in seasons:\n",
    "    df = dfTeamPCA[dfTeamPCA[\"Season\"] == season]\n",
    "    # compute means and add to series list\n",
    "    means = df.mean()\n",
    "    means.name = season\n",
    "    meanSeries.append(means)\n",
    "    stds = df.std()\n",
    "    stds.name = season\n",
    "    stdSeries.append(stds)\n",
    "\n",
    "dfMean = (pd.DataFrame(meanSeries)).T\n",
    "dfStds = (pd.DataFrame(stdSeries)).T"
   ]
  },
  {
   "cell_type": "code",
   "execution_count": 29,
   "id": "9a5899f2",
   "metadata": {},
   "outputs": [
    {
     "data": {
      "text/html": [
       "<div>\n",
       "<style scoped>\n",
       "    .dataframe tbody tr th:only-of-type {\n",
       "        vertical-align: middle;\n",
       "    }\n",
       "\n",
       "    .dataframe tbody tr th {\n",
       "        vertical-align: top;\n",
       "    }\n",
       "\n",
       "    .dataframe thead th {\n",
       "        text-align: right;\n",
       "    }\n",
       "</style>\n",
       "<table border=\"1\" class=\"dataframe\">\n",
       "  <thead>\n",
       "    <tr style=\"text-align: right;\">\n",
       "      <th></th>\n",
       "      <th>2020-21</th>\n",
       "      <th>2019-20</th>\n",
       "      <th>2018-19</th>\n",
       "      <th>2017-18</th>\n",
       "      <th>2016-17</th>\n",
       "      <th>2015-16</th>\n",
       "      <th>2014-15</th>\n",
       "      <th>2013-14</th>\n",
       "      <th>2012-13</th>\n",
       "      <th>2011-12</th>\n",
       "      <th>...</th>\n",
       "      <th>2009-10</th>\n",
       "      <th>2008-09</th>\n",
       "      <th>2007-08</th>\n",
       "      <th>2006-07</th>\n",
       "      <th>2005-06</th>\n",
       "      <th>2004-05</th>\n",
       "      <th>2003-04</th>\n",
       "      <th>2002-03</th>\n",
       "      <th>2001-02</th>\n",
       "      <th>2000-01</th>\n",
       "    </tr>\n",
       "  </thead>\n",
       "  <tbody>\n",
       "    <tr>\n",
       "      <th>1</th>\n",
       "      <td>-30.588450</td>\n",
       "      <td>-29.140461</td>\n",
       "      <td>-25.848468</td>\n",
       "      <td>-17.203794</td>\n",
       "      <td>-13.217780</td>\n",
       "      <td>-6.499164</td>\n",
       "      <td>-1.627901</td>\n",
       "      <td>-0.920459</td>\n",
       "      <td>3.701758</td>\n",
       "      <td>7.849679</td>\n",
       "      <td>...</td>\n",
       "      <td>5.037581</td>\n",
       "      <td>5.747885</td>\n",
       "      <td>5.474860</td>\n",
       "      <td>8.868471</td>\n",
       "      <td>11.899850</td>\n",
       "      <td>11.865392</td>\n",
       "      <td>15.783719</td>\n",
       "      <td>14.650012</td>\n",
       "      <td>13.967219</td>\n",
       "      <td>16.201421</td>\n",
       "    </tr>\n",
       "    <tr>\n",
       "      <th>2</th>\n",
       "      <td>2.450468</td>\n",
       "      <td>0.778789</td>\n",
       "      <td>-2.565319</td>\n",
       "      <td>2.735054</td>\n",
       "      <td>1.110145</td>\n",
       "      <td>0.355529</td>\n",
       "      <td>1.747597</td>\n",
       "      <td>0.365902</td>\n",
       "      <td>2.273533</td>\n",
       "      <td>2.479408</td>\n",
       "      <td>...</td>\n",
       "      <td>-2.383588</td>\n",
       "      <td>-0.564544</td>\n",
       "      <td>-1.766780</td>\n",
       "      <td>-0.158067</td>\n",
       "      <td>1.044305</td>\n",
       "      <td>-1.585048</td>\n",
       "      <td>1.563541</td>\n",
       "      <td>-1.708909</td>\n",
       "      <td>-2.571598</td>\n",
       "      <td>-2.853678</td>\n",
       "    </tr>\n",
       "    <tr>\n",
       "      <th>3</th>\n",
       "      <td>-2.306840</td>\n",
       "      <td>-1.851462</td>\n",
       "      <td>-0.626911</td>\n",
       "      <td>-1.459674</td>\n",
       "      <td>-0.859780</td>\n",
       "      <td>-0.170332</td>\n",
       "      <td>-0.200378</td>\n",
       "      <td>-0.089915</td>\n",
       "      <td>-0.236569</td>\n",
       "      <td>0.119861</td>\n",
       "      <td>...</td>\n",
       "      <td>0.748729</td>\n",
       "      <td>0.236341</td>\n",
       "      <td>0.586066</td>\n",
       "      <td>0.002341</td>\n",
       "      <td>-0.009803</td>\n",
       "      <td>0.806140</td>\n",
       "      <td>0.578775</td>\n",
       "      <td>1.320275</td>\n",
       "      <td>1.566351</td>\n",
       "      <td>1.646433</td>\n",
       "    </tr>\n",
       "    <tr>\n",
       "      <th>4</th>\n",
       "      <td>-0.327161</td>\n",
       "      <td>1.450843</td>\n",
       "      <td>-0.093890</td>\n",
       "      <td>-2.061918</td>\n",
       "      <td>-0.347240</td>\n",
       "      <td>-1.418817</td>\n",
       "      <td>-2.643166</td>\n",
       "      <td>-0.494013</td>\n",
       "      <td>-3.389471</td>\n",
       "      <td>-3.788868</td>\n",
       "      <td>...</td>\n",
       "      <td>0.979718</td>\n",
       "      <td>2.236546</td>\n",
       "      <td>1.421637</td>\n",
       "      <td>4.686657</td>\n",
       "      <td>4.779711</td>\n",
       "      <td>3.269329</td>\n",
       "      <td>-1.208451</td>\n",
       "      <td>-0.979767</td>\n",
       "      <td>-2.509848</td>\n",
       "      <td>-0.646613</td>\n",
       "    </tr>\n",
       "    <tr>\n",
       "      <th>5</th>\n",
       "      <td>-0.802864</td>\n",
       "      <td>-0.431983</td>\n",
       "      <td>-0.595641</td>\n",
       "      <td>-0.384835</td>\n",
       "      <td>-0.293307</td>\n",
       "      <td>0.017905</td>\n",
       "      <td>0.178069</td>\n",
       "      <td>0.011754</td>\n",
       "      <td>0.101949</td>\n",
       "      <td>0.330123</td>\n",
       "      <td>...</td>\n",
       "      <td>-0.205625</td>\n",
       "      <td>-0.136550</td>\n",
       "      <td>-0.086864</td>\n",
       "      <td>0.019459</td>\n",
       "      <td>0.197294</td>\n",
       "      <td>0.290071</td>\n",
       "      <td>0.691541</td>\n",
       "      <td>0.481449</td>\n",
       "      <td>0.339613</td>\n",
       "      <td>0.500132</td>\n",
       "    </tr>\n",
       "    <tr>\n",
       "      <th>6</th>\n",
       "      <td>-0.498144</td>\n",
       "      <td>-0.052379</td>\n",
       "      <td>0.307530</td>\n",
       "      <td>-0.334331</td>\n",
       "      <td>-0.197505</td>\n",
       "      <td>0.120540</td>\n",
       "      <td>0.008908</td>\n",
       "      <td>-0.015373</td>\n",
       "      <td>-0.260952</td>\n",
       "      <td>-0.234241</td>\n",
       "      <td>...</td>\n",
       "      <td>-0.112586</td>\n",
       "      <td>-0.291132</td>\n",
       "      <td>-0.014897</td>\n",
       "      <td>-0.135298</td>\n",
       "      <td>-0.188085</td>\n",
       "      <td>0.264344</td>\n",
       "      <td>0.252301</td>\n",
       "      <td>0.499655</td>\n",
       "      <td>0.462598</td>\n",
       "      <td>0.694064</td>\n",
       "    </tr>\n",
       "    <tr>\n",
       "      <th>7</th>\n",
       "      <td>0.903376</td>\n",
       "      <td>-1.295859</td>\n",
       "      <td>-1.293488</td>\n",
       "      <td>0.375912</td>\n",
       "      <td>-0.131820</td>\n",
       "      <td>-1.374006</td>\n",
       "      <td>-1.129879</td>\n",
       "      <td>-0.012686</td>\n",
       "      <td>0.917746</td>\n",
       "      <td>0.176586</td>\n",
       "      <td>...</td>\n",
       "      <td>1.947065</td>\n",
       "      <td>1.962772</td>\n",
       "      <td>1.102503</td>\n",
       "      <td>1.221446</td>\n",
       "      <td>0.437422</td>\n",
       "      <td>-0.704090</td>\n",
       "      <td>-1.772041</td>\n",
       "      <td>-1.290022</td>\n",
       "      <td>-0.527588</td>\n",
       "      <td>-1.692921</td>\n",
       "    </tr>\n",
       "  </tbody>\n",
       "</table>\n",
       "<p>7 rows × 21 columns</p>\n",
       "</div>"
      ],
      "text/plain": [
       "     2020-21    2019-20    2018-19    2017-18    2016-17   2015-16   2014-15  \\\n",
       "1 -30.588450 -29.140461 -25.848468 -17.203794 -13.217780 -6.499164 -1.627901   \n",
       "2   2.450468   0.778789  -2.565319   2.735054   1.110145  0.355529  1.747597   \n",
       "3  -2.306840  -1.851462  -0.626911  -1.459674  -0.859780 -0.170332 -0.200378   \n",
       "4  -0.327161   1.450843  -0.093890  -2.061918  -0.347240 -1.418817 -2.643166   \n",
       "5  -0.802864  -0.431983  -0.595641  -0.384835  -0.293307  0.017905  0.178069   \n",
       "6  -0.498144  -0.052379   0.307530  -0.334331  -0.197505  0.120540  0.008908   \n",
       "7   0.903376  -1.295859  -1.293488   0.375912  -0.131820 -1.374006 -1.129879   \n",
       "\n",
       "    2013-14   2012-13   2011-12  ...   2009-10   2008-09   2007-08   2006-07  \\\n",
       "1 -0.920459  3.701758  7.849679  ...  5.037581  5.747885  5.474860  8.868471   \n",
       "2  0.365902  2.273533  2.479408  ... -2.383588 -0.564544 -1.766780 -0.158067   \n",
       "3 -0.089915 -0.236569  0.119861  ...  0.748729  0.236341  0.586066  0.002341   \n",
       "4 -0.494013 -3.389471 -3.788868  ...  0.979718  2.236546  1.421637  4.686657   \n",
       "5  0.011754  0.101949  0.330123  ... -0.205625 -0.136550 -0.086864  0.019459   \n",
       "6 -0.015373 -0.260952 -0.234241  ... -0.112586 -0.291132 -0.014897 -0.135298   \n",
       "7 -0.012686  0.917746  0.176586  ...  1.947065  1.962772  1.102503  1.221446   \n",
       "\n",
       "     2005-06    2004-05    2003-04    2002-03    2001-02    2000-01  \n",
       "1  11.899850  11.865392  15.783719  14.650012  13.967219  16.201421  \n",
       "2   1.044305  -1.585048   1.563541  -1.708909  -2.571598  -2.853678  \n",
       "3  -0.009803   0.806140   0.578775   1.320275   1.566351   1.646433  \n",
       "4   4.779711   3.269329  -1.208451  -0.979767  -2.509848  -0.646613  \n",
       "5   0.197294   0.290071   0.691541   0.481449   0.339613   0.500132  \n",
       "6  -0.188085   0.264344   0.252301   0.499655   0.462598   0.694064  \n",
       "7   0.437422  -0.704090  -1.772041  -1.290022  -0.527588  -1.692921  \n",
       "\n",
       "[7 rows x 21 columns]"
      ]
     },
     "execution_count": 29,
     "metadata": {},
     "output_type": "execute_result"
    }
   ],
   "source": [
    "dfMean"
   ]
  },
  {
   "cell_type": "code",
   "execution_count": 30,
   "id": "5d2d4743",
   "metadata": {
    "scrolled": true
   },
   "outputs": [
    {
     "data": {
      "image/png": "[encoded data removed]",
      "text/plain": [
       "<Figure size 432x288 with 1 Axes>"
      ]
     },
     "metadata": {
      "needs_background": "light"
     },
     "output_type": "display_data"
    },
    {
     "data": {
      "image/png": "[encoded data removed]",
      "text/plain": [
       "<Figure size 432x288 with 1 Axes>"
      ]
     },
     "metadata": {
      "needs_background": "light"
     },
     "output_type": "display_data"
    },
    {
     "data": {
      "image/png": "[encoded data removed]",
      "text/plain": [
       "<Figure size 432x288 with 1 Axes>"
      ]
     },
     "metadata": {
      "needs_background": "light"
     },
     "output_type": "display_data"
    },
    {
     "data": {
      "image/png": "[encoded data removed]",
      "text/plain": [
       "<Figure size 432x288 with 1 Axes>"
      ]
     },
     "metadata": {
      "needs_background": "light"
     },
     "output_type": "display_data"
    },
    {
     "data": {
      "image/png": "[encoded data removed]",
      "text/plain": [
       "<Figure size 432x288 with 1 Axes>"
      ]
     },
     "metadata": {
      "needs_background": "light"
     },
     "output_type": "display_data"
    },
    {
     "data": {
      "image/png": "[encoded data removed]",
      "text/plain": [
       "<Figure size 432x288 with 1 Axes>"
      ]
     },
     "metadata": {
      "needs_background": "light"
     },
     "output_type": "display_data"
    },
    {
     "data": {
      "image/png": "[encoded data removed]",
      "text/plain": [
       "<Figure size 432x288 with 1 Axes>"
      ]
     },
     "metadata": {
      "needs_background": "light"
     },
     "output_type": "display_data"
    }
   ],
   "source": [
    "for i in range(1,8):\n",
    "    plt.figure()\n",
    "    dfMean.loc[i].plot(yerr=dfStds.loc[i])\n",
    "    plt.title('Covariance vector #'+str(i))"
   ]
  },
  {
   "cell_type": "markdown",
   "id": "9b286bd3",
   "metadata": {},
   "source": [
    "Covariance vector # 1 is the only one that shows real significant secular variation over the years. Others seem to fluctuate about zero. Seems to reflect the known trend in the league of teams shooting more and more 3s."
   ]
  },
  {
   "cell_type": "markdown",
   "id": "06177cc3",
   "metadata": {},
   "source": [
    "Double checking that there is not much variability among shot percentage, with 3P% as a random example."
   ]
  },
  {
   "cell_type": "code",
   "execution_count": 31,
   "id": "ede1a5ad",
   "metadata": {},
   "outputs": [
    {
     "name": "stdout",
     "output_type": "stream",
     "text": [
      "0.3553210862619808\n",
      "0.019359605849762204\n"
     ]
    }
   ],
   "source": [
    "print(dfTeamData['3P%'].mean())\n",
    "print(dfTeamData['3P%'].std())"
   ]
  },
  {
   "cell_type": "code",
   "execution_count": 32,
   "id": "bae1044e",
   "metadata": {},
   "outputs": [
    {
     "name": "stdout",
     "output_type": "stream",
     "text": [
      "0.3527666666666666\n"
     ]
    }
   ],
   "source": [
    "print((dfTeamData[dfTeamData['Season'] == '2015-16'])['3P%'].mean())"
   ]
  },
  {
   "cell_type": "markdown",
   "id": "7372d8be",
   "metadata": {},
   "source": [
    "# Looking at a few teams PCA profiles from this past season"
   ]
  },
  {
   "cell_type": "code",
   "execution_count": 33,
   "id": "1d4d8543",
   "metadata": {},
   "outputs": [
    {
     "name": "stderr",
     "output_type": "stream",
     "text": [
      "/Users/saberman/opt/anaconda3/envs/notebooks/lib/python3.9/site-packages/pandas/core/indexing.py:1676: SettingWithCopyWarning: \n",
      "A value is trying to be set on a copy of a slice from a DataFrame.\n",
      "Try using .loc[row_indexer,col_indexer] = value instead\n",
      "\n",
      "See the caveats in the documentation: https://pandas.pydata.org/pandas-docs/stable/user_guide/indexing.html#returning-a-view-versus-a-copy\n",
      "  self._setitem_single_column(ilocs[0], value, pi)\n"
     ]
    }
   ],
   "source": [
    "thisSeason = dfTeamPCA[dfTeamPCA[\"Season\"] == '2020-21']\n",
    "# subtract mean of PCA component 1 from this season's data\n",
    "thisSeason.loc[:,1] = thisSeason.loc[:,1] - dfMean.loc[1,'2020-21']\n"
   ]
  },
  {
   "cell_type": "code",
   "execution_count": 34,
   "id": "31dd0ca7",
   "metadata": {},
   "outputs": [
    {
     "data": {
      "text/plain": [
       "<AxesSubplot:>"
      ]
     },
     "execution_count": 34,
     "metadata": {},
     "output_type": "execute_result"
    },
    {
     "data": {
      "image/png": "[encoded data removed]",
      "text/plain": [
       "<Figure size 432x288 with 1 Axes>"
      ]
     },
     "metadata": {
      "needs_background": "light"
     },
     "output_type": "display_data"
    }
   ],
   "source": [
    "thisSeason[thisSeason['Tm'].isin(['DEN','LAL'])].plot(kind='bar')"
   ]
  },
  {
   "cell_type": "code",
   "execution_count": 35,
   "id": "a90c92bf",
   "metadata": {
    "scrolled": true
   },
   "outputs": [
    {
     "data": {
      "text/html": [
       "<div>\n",
       "<style scoped>\n",
       "    .dataframe tbody tr th:only-of-type {\n",
       "        vertical-align: middle;\n",
       "    }\n",
       "\n",
       "    .dataframe tbody tr th {\n",
       "        vertical-align: top;\n",
       "    }\n",
       "\n",
       "    .dataframe thead th {\n",
       "        text-align: right;\n",
       "    }\n",
       "</style>\n",
       "<table border=\"1\" class=\"dataframe\">\n",
       "  <thead>\n",
       "    <tr style=\"text-align: right;\">\n",
       "      <th></th>\n",
       "      <th>Season</th>\n",
       "      <th>Tm</th>\n",
       "      <th>1</th>\n",
       "      <th>2</th>\n",
       "      <th>3</th>\n",
       "      <th>4</th>\n",
       "      <th>5</th>\n",
       "      <th>6</th>\n",
       "      <th>7</th>\n",
       "    </tr>\n",
       "  </thead>\n",
       "  <tbody>\n",
       "    <tr>\n",
       "      <th>0</th>\n",
       "      <td>2020-21</td>\n",
       "      <td>OKC</td>\n",
       "      <td>-1.439415</td>\n",
       "      <td>2.535006</td>\n",
       "      <td>-4.762177</td>\n",
       "      <td>-5.166605</td>\n",
       "      <td>6.907563</td>\n",
       "      <td>-5.927464</td>\n",
       "      <td>-2.866416</td>\n",
       "    </tr>\n",
       "    <tr>\n",
       "      <th>21</th>\n",
       "      <td>2020-21</td>\n",
       "      <td>LAC</td>\n",
       "      <td>2.436766</td>\n",
       "      <td>7.299404</td>\n",
       "      <td>0.851785</td>\n",
       "      <td>-1.033189</td>\n",
       "      <td>-4.107081</td>\n",
       "      <td>1.026468</td>\n",
       "      <td>3.964831</td>\n",
       "    </tr>\n",
       "    <tr>\n",
       "      <th>42</th>\n",
       "      <td>2020-21</td>\n",
       "      <td>CHI</td>\n",
       "      <td>2.402747</td>\n",
       "      <td>2.180484</td>\n",
       "      <td>-1.720908</td>\n",
       "      <td>-4.027932</td>\n",
       "      <td>-0.588262</td>\n",
       "      <td>2.706277</td>\n",
       "      <td>3.334578</td>\n",
       "    </tr>\n",
       "    <tr>\n",
       "      <th>63</th>\n",
       "      <td>2020-21</td>\n",
       "      <td>CLE</td>\n",
       "      <td>9.084803</td>\n",
       "      <td>2.080809</td>\n",
       "      <td>-6.327890</td>\n",
       "      <td>-1.878451</td>\n",
       "      <td>3.431596</td>\n",
       "      <td>-5.029743</td>\n",
       "      <td>1.388255</td>\n",
       "    </tr>\n",
       "    <tr>\n",
       "      <th>84</th>\n",
       "      <td>2020-21</td>\n",
       "      <td>NOP</td>\n",
       "      <td>-1.117046</td>\n",
       "      <td>-4.029019</td>\n",
       "      <td>-7.264824</td>\n",
       "      <td>1.336803</td>\n",
       "      <td>-7.905472</td>\n",
       "      <td>-5.187911</td>\n",
       "      <td>-0.955325</td>\n",
       "    </tr>\n",
       "    <tr>\n",
       "      <th>103</th>\n",
       "      <td>2020-21</td>\n",
       "      <td>SAC</td>\n",
       "      <td>-0.416959</td>\n",
       "      <td>-4.332712</td>\n",
       "      <td>-1.501050</td>\n",
       "      <td>0.544153</td>\n",
       "      <td>2.430813</td>\n",
       "      <td>-0.175410</td>\n",
       "      <td>6.071753</td>\n",
       "    </tr>\n",
       "    <tr>\n",
       "      <th>124</th>\n",
       "      <td>2020-21</td>\n",
       "      <td>MIA</td>\n",
       "      <td>-0.480633</td>\n",
       "      <td>15.793501</td>\n",
       "      <td>-7.813896</td>\n",
       "      <td>1.197299</td>\n",
       "      <td>-1.804341</td>\n",
       "      <td>-3.221091</td>\n",
       "      <td>2.144116</td>\n",
       "    </tr>\n",
       "    <tr>\n",
       "      <th>145</th>\n",
       "      <td>2020-21</td>\n",
       "      <td>GSW</td>\n",
       "      <td>-4.252655</td>\n",
       "      <td>4.888057</td>\n",
       "      <td>0.796552</td>\n",
       "      <td>3.219079</td>\n",
       "      <td>2.539509</td>\n",
       "      <td>4.594813</td>\n",
       "      <td>0.184762</td>\n",
       "    </tr>\n",
       "    <tr>\n",
       "      <th>166</th>\n",
       "      <td>2020-21</td>\n",
       "      <td>LAL</td>\n",
       "      <td>7.968042</td>\n",
       "      <td>4.469835</td>\n",
       "      <td>-1.901153</td>\n",
       "      <td>-0.275525</td>\n",
       "      <td>-3.897805</td>\n",
       "      <td>-2.239540</td>\n",
       "      <td>0.370130</td>\n",
       "    </tr>\n",
       "    <tr>\n",
       "      <th>187</th>\n",
       "      <td>2020-21</td>\n",
       "      <td>POR</td>\n",
       "      <td>-7.170858</td>\n",
       "      <td>4.447860</td>\n",
       "      <td>1.273271</td>\n",
       "      <td>1.878345</td>\n",
       "      <td>2.083885</td>\n",
       "      <td>1.321922</td>\n",
       "      <td>0.777341</td>\n",
       "    </tr>\n",
       "    <tr>\n",
       "      <th>208</th>\n",
       "      <td>2020-21</td>\n",
       "      <td>PHO</td>\n",
       "      <td>0.968032</td>\n",
       "      <td>3.686188</td>\n",
       "      <td>-0.266614</td>\n",
       "      <td>-1.653577</td>\n",
       "      <td>-4.588898</td>\n",
       "      <td>3.665524</td>\n",
       "      <td>5.697901</td>\n",
       "    </tr>\n",
       "    <tr>\n",
       "      <th>229</th>\n",
       "      <td>2020-21</td>\n",
       "      <td>NYK</td>\n",
       "      <td>8.431203</td>\n",
       "      <td>7.781060</td>\n",
       "      <td>-7.262336</td>\n",
       "      <td>-2.484035</td>\n",
       "      <td>-3.501808</td>\n",
       "      <td>-0.150039</td>\n",
       "      <td>-3.150017</td>\n",
       "    </tr>\n",
       "    <tr>\n",
       "      <th>250</th>\n",
       "      <td>2020-21</td>\n",
       "      <td>PHI</td>\n",
       "      <td>6.402432</td>\n",
       "      <td>0.717005</td>\n",
       "      <td>-2.121260</td>\n",
       "      <td>3.364775</td>\n",
       "      <td>-6.673826</td>\n",
       "      <td>-1.091050</td>\n",
       "      <td>-1.048048</td>\n",
       "    </tr>\n",
       "    <tr>\n",
       "      <th>271</th>\n",
       "      <td>2020-21</td>\n",
       "      <td>MIN</td>\n",
       "      <td>-3.726520</td>\n",
       "      <td>-1.685733</td>\n",
       "      <td>-1.410275</td>\n",
       "      <td>2.330497</td>\n",
       "      <td>4.947296</td>\n",
       "      <td>0.690350</td>\n",
       "      <td>0.617033</td>\n",
       "    </tr>\n",
       "    <tr>\n",
       "      <th>292</th>\n",
       "      <td>2020-21</td>\n",
       "      <td>BOS</td>\n",
       "      <td>-0.217341</td>\n",
       "      <td>5.816805</td>\n",
       "      <td>-3.437022</td>\n",
       "      <td>2.148556</td>\n",
       "      <td>-1.483477</td>\n",
       "      <td>2.608063</td>\n",
       "      <td>1.017542</td>\n",
       "    </tr>\n",
       "    <tr>\n",
       "      <th>313</th>\n",
       "      <td>2020-21</td>\n",
       "      <td>IND</td>\n",
       "      <td>-0.551146</td>\n",
       "      <td>-7.270364</td>\n",
       "      <td>1.682555</td>\n",
       "      <td>-1.813063</td>\n",
       "      <td>1.289052</td>\n",
       "      <td>3.694251</td>\n",
       "      <td>3.647105</td>\n",
       "    </tr>\n",
       "    <tr>\n",
       "      <th>334</th>\n",
       "      <td>2020-21</td>\n",
       "      <td>MIL</td>\n",
       "      <td>-10.066066</td>\n",
       "      <td>-1.538496</td>\n",
       "      <td>0.326255</td>\n",
       "      <td>-4.289107</td>\n",
       "      <td>-7.582208</td>\n",
       "      <td>-1.524863</td>\n",
       "      <td>0.435339</td>\n",
       "    </tr>\n",
       "    <tr>\n",
       "      <th>355</th>\n",
       "      <td>2020-21</td>\n",
       "      <td>TOR</td>\n",
       "      <td>-3.719147</td>\n",
       "      <td>10.532497</td>\n",
       "      <td>-6.499299</td>\n",
       "      <td>5.152460</td>\n",
       "      <td>2.384441</td>\n",
       "      <td>3.735521</td>\n",
       "      <td>-0.170933</td>\n",
       "    </tr>\n",
       "    <tr>\n",
       "      <th>376</th>\n",
       "      <td>2020-21</td>\n",
       "      <td>MEM</td>\n",
       "      <td>1.161878</td>\n",
       "      <td>-4.282042</td>\n",
       "      <td>-5.614030</td>\n",
       "      <td>-3.569968</td>\n",
       "      <td>-5.156236</td>\n",
       "      <td>2.265608</td>\n",
       "      <td>-0.533624</td>\n",
       "    </tr>\n",
       "    <tr>\n",
       "      <th>397</th>\n",
       "      <td>2020-21</td>\n",
       "      <td>BRK</td>\n",
       "      <td>-5.905375</td>\n",
       "      <td>0.976596</td>\n",
       "      <td>1.934215</td>\n",
       "      <td>1.998773</td>\n",
       "      <td>-4.159569</td>\n",
       "      <td>-1.479905</td>\n",
       "      <td>3.688379</td>\n",
       "    </tr>\n",
       "    <tr>\n",
       "      <th>418</th>\n",
       "      <td>2020-21</td>\n",
       "      <td>UTA</td>\n",
       "      <td>-4.789765</td>\n",
       "      <td>9.637645</td>\n",
       "      <td>12.956596</td>\n",
       "      <td>-1.805274</td>\n",
       "      <td>-1.239691</td>\n",
       "      <td>-1.278123</td>\n",
       "      <td>-1.099703</td>\n",
       "    </tr>\n",
       "    <tr>\n",
       "      <th>439</th>\n",
       "      <td>2020-21</td>\n",
       "      <td>DET</td>\n",
       "      <td>6.814184</td>\n",
       "      <td>4.012649</td>\n",
       "      <td>-1.556864</td>\n",
       "      <td>1.565943</td>\n",
       "      <td>3.990748</td>\n",
       "      <td>-2.723444</td>\n",
       "      <td>0.641060</td>\n",
       "    </tr>\n",
       "    <tr>\n",
       "      <th>460</th>\n",
       "      <td>2020-21</td>\n",
       "      <td>ORL</td>\n",
       "      <td>2.831232</td>\n",
       "      <td>1.491087</td>\n",
       "      <td>-8.133598</td>\n",
       "      <td>-6.720922</td>\n",
       "      <td>4.098629</td>\n",
       "      <td>-5.278065</td>\n",
       "      <td>-3.503010</td>\n",
       "    </tr>\n",
       "    <tr>\n",
       "      <th>481</th>\n",
       "      <td>2020-21</td>\n",
       "      <td>ATL</td>\n",
       "      <td>1.387143</td>\n",
       "      <td>1.240640</td>\n",
       "      <td>0.155353</td>\n",
       "      <td>1.636119</td>\n",
       "      <td>-3.195336</td>\n",
       "      <td>-3.635719</td>\n",
       "      <td>0.368526</td>\n",
       "    </tr>\n",
       "    <tr>\n",
       "      <th>502</th>\n",
       "      <td>2020-21</td>\n",
       "      <td>CHO</td>\n",
       "      <td>-4.165004</td>\n",
       "      <td>8.978007</td>\n",
       "      <td>-6.712520</td>\n",
       "      <td>-2.650720</td>\n",
       "      <td>0.004403</td>\n",
       "      <td>-3.044504</td>\n",
       "      <td>0.391611</td>\n",
       "    </tr>\n",
       "    <tr>\n",
       "      <th>521</th>\n",
       "      <td>2020-21</td>\n",
       "      <td>WAS</td>\n",
       "      <td>0.647155</td>\n",
       "      <td>-13.818075</td>\n",
       "      <td>-2.809008</td>\n",
       "      <td>3.890278</td>\n",
       "      <td>-2.588940</td>\n",
       "      <td>-0.353898</td>\n",
       "      <td>-0.420109</td>\n",
       "    </tr>\n",
       "    <tr>\n",
       "      <th>542</th>\n",
       "      <td>2020-21</td>\n",
       "      <td>SAS</td>\n",
       "      <td>5.452430</td>\n",
       "      <td>-7.230248</td>\n",
       "      <td>-3.858342</td>\n",
       "      <td>-5.775438</td>\n",
       "      <td>-1.424407</td>\n",
       "      <td>-1.060104</td>\n",
       "      <td>1.133230</td>\n",
       "    </tr>\n",
       "    <tr>\n",
       "      <th>563</th>\n",
       "      <td>2020-21</td>\n",
       "      <td>DEN</td>\n",
       "      <td>-0.554872</td>\n",
       "      <td>4.099473</td>\n",
       "      <td>-5.712510</td>\n",
       "      <td>-0.180272</td>\n",
       "      <td>-6.932327</td>\n",
       "      <td>2.792159</td>\n",
       "      <td>3.675416</td>\n",
       "    </tr>\n",
       "    <tr>\n",
       "      <th>584</th>\n",
       "      <td>2020-21</td>\n",
       "      <td>HOU</td>\n",
       "      <td>-5.583764</td>\n",
       "      <td>5.837979</td>\n",
       "      <td>-1.463109</td>\n",
       "      <td>1.557126</td>\n",
       "      <td>9.113941</td>\n",
       "      <td>-1.076119</td>\n",
       "      <td>-0.155056</td>\n",
       "    </tr>\n",
       "    <tr>\n",
       "      <th>605</th>\n",
       "      <td>2020-21</td>\n",
       "      <td>DAL</td>\n",
       "      <td>-1.831480</td>\n",
       "      <td>9.198149</td>\n",
       "      <td>-1.033097</td>\n",
       "      <td>1.689042</td>\n",
       "      <td>-0.478117</td>\n",
       "      <td>0.431725</td>\n",
       "      <td>1.454609</td>\n",
       "    </tr>\n",
       "  </tbody>\n",
       "</table>\n",
       "</div>"
      ],
      "text/plain": [
       "      Season   Tm          1          2          3         4         5  \\\n",
       "0    2020-21  OKC  -1.439415   2.535006  -4.762177 -5.166605  6.907563   \n",
       "21   2020-21  LAC   2.436766   7.299404   0.851785 -1.033189 -4.107081   \n",
       "42   2020-21  CHI   2.402747   2.180484  -1.720908 -4.027932 -0.588262   \n",
       "63   2020-21  CLE   9.084803   2.080809  -6.327890 -1.878451  3.431596   \n",
       "84   2020-21  NOP  -1.117046  -4.029019  -7.264824  1.336803 -7.905472   \n",
       "103  2020-21  SAC  -0.416959  -4.332712  -1.501050  0.544153  2.430813   \n",
       "124  2020-21  MIA  -0.480633  15.793501  -7.813896  1.197299 -1.804341   \n",
       "145  2020-21  GSW  -4.252655   4.888057   0.796552  3.219079  2.539509   \n",
       "166  2020-21  LAL   7.968042   4.469835  -1.901153 -0.275525 -3.897805   \n",
       "187  2020-21  POR  -7.170858   4.447860   1.273271  1.878345  2.083885   \n",
       "208  2020-21  PHO   0.968032   3.686188  -0.266614 -1.653577 -4.588898   \n",
       "229  2020-21  NYK   8.431203   7.781060  -7.262336 -2.484035 -3.501808   \n",
       "250  2020-21  PHI   6.402432   0.717005  -2.121260  3.364775 -6.673826   \n",
       "271  2020-21  MIN  -3.726520  -1.685733  -1.410275  2.330497  4.947296   \n",
       "292  2020-21  BOS  -0.217341   5.816805  -3.437022  2.148556 -1.483477   \n",
       "313  2020-21  IND  -0.551146  -7.270364   1.682555 -1.813063  1.289052   \n",
       "334  2020-21  MIL -10.066066  -1.538496   0.326255 -4.289107 -7.582208   \n",
       "355  2020-21  TOR  -3.719147  10.532497  -6.499299  5.152460  2.384441   \n",
       "376  2020-21  MEM   1.161878  -4.282042  -5.614030 -3.569968 -5.156236   \n",
       "397  2020-21  BRK  -5.905375   0.976596   1.934215  1.998773 -4.159569   \n",
       "418  2020-21  UTA  -4.789765   9.637645  12.956596 -1.805274 -1.239691   \n",
       "439  2020-21  DET   6.814184   4.012649  -1.556864  1.565943  3.990748   \n",
       "460  2020-21  ORL   2.831232   1.491087  -8.133598 -6.720922  4.098629   \n",
       "481  2020-21  ATL   1.387143   1.240640   0.155353  1.636119 -3.195336   \n",
       "502  2020-21  CHO  -4.165004   8.978007  -6.712520 -2.650720  0.004403   \n",
       "521  2020-21  WAS   0.647155 -13.818075  -2.809008  3.890278 -2.588940   \n",
       "542  2020-21  SAS   5.452430  -7.230248  -3.858342 -5.775438 -1.424407   \n",
       "563  2020-21  DEN  -0.554872   4.099473  -5.712510 -0.180272 -6.932327   \n",
       "584  2020-21  HOU  -5.583764   5.837979  -1.463109  1.557126  9.113941   \n",
       "605  2020-21  DAL  -1.831480   9.198149  -1.033097  1.689042 -0.478117   \n",
       "\n",
       "            6         7  \n",
       "0   -5.927464 -2.866416  \n",
       "21   1.026468  3.964831  \n",
       "42   2.706277  3.334578  \n",
       "63  -5.029743  1.388255  \n",
       "84  -5.187911 -0.955325  \n",
       "103 -0.175410  6.071753  \n",
       "124 -3.221091  2.144116  \n",
       "145  4.594813  0.184762  \n",
       "166 -2.239540  0.370130  \n",
       "187  1.321922  0.777341  \n",
       "208  3.665524  5.697901  \n",
       "229 -0.150039 -3.150017  \n",
       "250 -1.091050 -1.048048  \n",
       "271  0.690350  0.617033  \n",
       "292  2.608063  1.017542  \n",
       "313  3.694251  3.647105  \n",
       "334 -1.524863  0.435339  \n",
       "355  3.735521 -0.170933  \n",
       "376  2.265608 -0.533624  \n",
       "397 -1.479905  3.688379  \n",
       "418 -1.278123 -1.099703  \n",
       "439 -2.723444  0.641060  \n",
       "460 -5.278065 -3.503010  \n",
       "481 -3.635719  0.368526  \n",
       "502 -3.044504  0.391611  \n",
       "521 -0.353898 -0.420109  \n",
       "542 -1.060104  1.133230  \n",
       "563  2.792159  3.675416  \n",
       "584 -1.076119 -0.155056  \n",
       "605  0.431725  1.454609  "
      ]
     },
     "execution_count": 35,
     "metadata": {},
     "output_type": "execute_result"
    }
   ],
   "source": [
    "thisSeason"
   ]
  },
  {
   "cell_type": "code",
   "execution_count": 36,
   "id": "f58725ae",
   "metadata": {},
   "outputs": [
    {
     "data": {
      "text/html": [
       "<div>\n",
       "<style scoped>\n",
       "    .dataframe tbody tr th:only-of-type {\n",
       "        vertical-align: middle;\n",
       "    }\n",
       "\n",
       "    .dataframe tbody tr th {\n",
       "        vertical-align: top;\n",
       "    }\n",
       "\n",
       "    .dataframe thead th {\n",
       "        text-align: right;\n",
       "    }\n",
       "</style>\n",
       "<table border=\"1\" class=\"dataframe\">\n",
       "  <thead>\n",
       "    <tr style=\"text-align: right;\">\n",
       "      <th></th>\n",
       "      <th>1</th>\n",
       "      <th>2</th>\n",
       "      <th>3</th>\n",
       "      <th>4</th>\n",
       "      <th>5</th>\n",
       "      <th>6</th>\n",
       "      <th>7</th>\n",
       "    </tr>\n",
       "  </thead>\n",
       "  <tbody>\n",
       "    <tr>\n",
       "      <th>OKC</th>\n",
       "      <td>-1.439415</td>\n",
       "      <td>2.535006</td>\n",
       "      <td>-4.762177</td>\n",
       "      <td>-5.166605</td>\n",
       "      <td>6.907563</td>\n",
       "      <td>-5.927464</td>\n",
       "      <td>-2.866416</td>\n",
       "    </tr>\n",
       "    <tr>\n",
       "      <th>LAC</th>\n",
       "      <td>2.436766</td>\n",
       "      <td>7.299404</td>\n",
       "      <td>0.851785</td>\n",
       "      <td>-1.033189</td>\n",
       "      <td>-4.107081</td>\n",
       "      <td>1.026468</td>\n",
       "      <td>3.964831</td>\n",
       "    </tr>\n",
       "    <tr>\n",
       "      <th>CHI</th>\n",
       "      <td>2.402747</td>\n",
       "      <td>2.180484</td>\n",
       "      <td>-1.720908</td>\n",
       "      <td>-4.027932</td>\n",
       "      <td>-0.588262</td>\n",
       "      <td>2.706277</td>\n",
       "      <td>3.334578</td>\n",
       "    </tr>\n",
       "    <tr>\n",
       "      <th>CLE</th>\n",
       "      <td>9.084803</td>\n",
       "      <td>2.080809</td>\n",
       "      <td>-6.327890</td>\n",
       "      <td>-1.878451</td>\n",
       "      <td>3.431596</td>\n",
       "      <td>-5.029743</td>\n",
       "      <td>1.388255</td>\n",
       "    </tr>\n",
       "    <tr>\n",
       "      <th>NOP</th>\n",
       "      <td>-1.117046</td>\n",
       "      <td>-4.029019</td>\n",
       "      <td>-7.264824</td>\n",
       "      <td>1.336803</td>\n",
       "      <td>-7.905472</td>\n",
       "      <td>-5.187911</td>\n",
       "      <td>-0.955325</td>\n",
       "    </tr>\n",
       "    <tr>\n",
       "      <th>SAC</th>\n",
       "      <td>-0.416959</td>\n",
       "      <td>-4.332712</td>\n",
       "      <td>-1.501050</td>\n",
       "      <td>0.544153</td>\n",
       "      <td>2.430813</td>\n",
       "      <td>-0.175410</td>\n",
       "      <td>6.071753</td>\n",
       "    </tr>\n",
       "    <tr>\n",
       "      <th>MIA</th>\n",
       "      <td>-0.480633</td>\n",
       "      <td>15.793501</td>\n",
       "      <td>-7.813896</td>\n",
       "      <td>1.197299</td>\n",
       "      <td>-1.804341</td>\n",
       "      <td>-3.221091</td>\n",
       "      <td>2.144116</td>\n",
       "    </tr>\n",
       "    <tr>\n",
       "      <th>GSW</th>\n",
       "      <td>-4.252655</td>\n",
       "      <td>4.888057</td>\n",
       "      <td>0.796552</td>\n",
       "      <td>3.219079</td>\n",
       "      <td>2.539509</td>\n",
       "      <td>4.594813</td>\n",
       "      <td>0.184762</td>\n",
       "    </tr>\n",
       "    <tr>\n",
       "      <th>LAL</th>\n",
       "      <td>7.968042</td>\n",
       "      <td>4.469835</td>\n",
       "      <td>-1.901153</td>\n",
       "      <td>-0.275525</td>\n",
       "      <td>-3.897805</td>\n",
       "      <td>-2.239540</td>\n",
       "      <td>0.370130</td>\n",
       "    </tr>\n",
       "    <tr>\n",
       "      <th>POR</th>\n",
       "      <td>-7.170858</td>\n",
       "      <td>4.447860</td>\n",
       "      <td>1.273271</td>\n",
       "      <td>1.878345</td>\n",
       "      <td>2.083885</td>\n",
       "      <td>1.321922</td>\n",
       "      <td>0.777341</td>\n",
       "    </tr>\n",
       "    <tr>\n",
       "      <th>PHO</th>\n",
       "      <td>0.968032</td>\n",
       "      <td>3.686188</td>\n",
       "      <td>-0.266614</td>\n",
       "      <td>-1.653577</td>\n",
       "      <td>-4.588898</td>\n",
       "      <td>3.665524</td>\n",
       "      <td>5.697901</td>\n",
       "    </tr>\n",
       "    <tr>\n",
       "      <th>NYK</th>\n",
       "      <td>8.431203</td>\n",
       "      <td>7.781060</td>\n",
       "      <td>-7.262336</td>\n",
       "      <td>-2.484035</td>\n",
       "      <td>-3.501808</td>\n",
       "      <td>-0.150039</td>\n",
       "      <td>-3.150017</td>\n",
       "    </tr>\n",
       "    <tr>\n",
       "      <th>PHI</th>\n",
       "      <td>6.402432</td>\n",
       "      <td>0.717005</td>\n",
       "      <td>-2.121260</td>\n",
       "      <td>3.364775</td>\n",
       "      <td>-6.673826</td>\n",
       "      <td>-1.091050</td>\n",
       "      <td>-1.048048</td>\n",
       "    </tr>\n",
       "    <tr>\n",
       "      <th>MIN</th>\n",
       "      <td>-3.726520</td>\n",
       "      <td>-1.685733</td>\n",
       "      <td>-1.410275</td>\n",
       "      <td>2.330497</td>\n",
       "      <td>4.947296</td>\n",
       "      <td>0.690350</td>\n",
       "      <td>0.617033</td>\n",
       "    </tr>\n",
       "    <tr>\n",
       "      <th>BOS</th>\n",
       "      <td>-0.217341</td>\n",
       "      <td>5.816805</td>\n",
       "      <td>-3.437022</td>\n",
       "      <td>2.148556</td>\n",
       "      <td>-1.483477</td>\n",
       "      <td>2.608063</td>\n",
       "      <td>1.017542</td>\n",
       "    </tr>\n",
       "    <tr>\n",
       "      <th>IND</th>\n",
       "      <td>-0.551146</td>\n",
       "      <td>-7.270364</td>\n",
       "      <td>1.682555</td>\n",
       "      <td>-1.813063</td>\n",
       "      <td>1.289052</td>\n",
       "      <td>3.694251</td>\n",
       "      <td>3.647105</td>\n",
       "    </tr>\n",
       "    <tr>\n",
       "      <th>MIL</th>\n",
       "      <td>-10.066066</td>\n",
       "      <td>-1.538496</td>\n",
       "      <td>0.326255</td>\n",
       "      <td>-4.289107</td>\n",
       "      <td>-7.582208</td>\n",
       "      <td>-1.524863</td>\n",
       "      <td>0.435339</td>\n",
       "    </tr>\n",
       "    <tr>\n",
       "      <th>TOR</th>\n",
       "      <td>-3.719147</td>\n",
       "      <td>10.532497</td>\n",
       "      <td>-6.499299</td>\n",
       "      <td>5.152460</td>\n",
       "      <td>2.384441</td>\n",
       "      <td>3.735521</td>\n",
       "      <td>-0.170933</td>\n",
       "    </tr>\n",
       "    <tr>\n",
       "      <th>MEM</th>\n",
       "      <td>1.161878</td>\n",
       "      <td>-4.282042</td>\n",
       "      <td>-5.614030</td>\n",
       "      <td>-3.569968</td>\n",
       "      <td>-5.156236</td>\n",
       "      <td>2.265608</td>\n",
       "      <td>-0.533624</td>\n",
       "    </tr>\n",
       "    <tr>\n",
       "      <th>BRK</th>\n",
       "      <td>-5.905375</td>\n",
       "      <td>0.976596</td>\n",
       "      <td>1.934215</td>\n",
       "      <td>1.998773</td>\n",
       "      <td>-4.159569</td>\n",
       "      <td>-1.479905</td>\n",
       "      <td>3.688379</td>\n",
       "    </tr>\n",
       "    <tr>\n",
       "      <th>UTA</th>\n",
       "      <td>-4.789765</td>\n",
       "      <td>9.637645</td>\n",
       "      <td>12.956596</td>\n",
       "      <td>-1.805274</td>\n",
       "      <td>-1.239691</td>\n",
       "      <td>-1.278123</td>\n",
       "      <td>-1.099703</td>\n",
       "    </tr>\n",
       "    <tr>\n",
       "      <th>DET</th>\n",
       "      <td>6.814184</td>\n",
       "      <td>4.012649</td>\n",
       "      <td>-1.556864</td>\n",
       "      <td>1.565943</td>\n",
       "      <td>3.990748</td>\n",
       "      <td>-2.723444</td>\n",
       "      <td>0.641060</td>\n",
       "    </tr>\n",
       "    <tr>\n",
       "      <th>ORL</th>\n",
       "      <td>2.831232</td>\n",
       "      <td>1.491087</td>\n",
       "      <td>-8.133598</td>\n",
       "      <td>-6.720922</td>\n",
       "      <td>4.098629</td>\n",
       "      <td>-5.278065</td>\n",
       "      <td>-3.503010</td>\n",
       "    </tr>\n",
       "    <tr>\n",
       "      <th>ATL</th>\n",
       "      <td>1.387143</td>\n",
       "      <td>1.240640</td>\n",
       "      <td>0.155353</td>\n",
       "      <td>1.636119</td>\n",
       "      <td>-3.195336</td>\n",
       "      <td>-3.635719</td>\n",
       "      <td>0.368526</td>\n",
       "    </tr>\n",
       "    <tr>\n",
       "      <th>CHO</th>\n",
       "      <td>-4.165004</td>\n",
       "      <td>8.978007</td>\n",
       "      <td>-6.712520</td>\n",
       "      <td>-2.650720</td>\n",
       "      <td>0.004403</td>\n",
       "      <td>-3.044504</td>\n",
       "      <td>0.391611</td>\n",
       "    </tr>\n",
       "    <tr>\n",
       "      <th>WAS</th>\n",
       "      <td>0.647155</td>\n",
       "      <td>-13.818075</td>\n",
       "      <td>-2.809008</td>\n",
       "      <td>3.890278</td>\n",
       "      <td>-2.588940</td>\n",
       "      <td>-0.353898</td>\n",
       "      <td>-0.420109</td>\n",
       "    </tr>\n",
       "    <tr>\n",
       "      <th>SAS</th>\n",
       "      <td>5.452430</td>\n",
       "      <td>-7.230248</td>\n",
       "      <td>-3.858342</td>\n",
       "      <td>-5.775438</td>\n",
       "      <td>-1.424407</td>\n",
       "      <td>-1.060104</td>\n",
       "      <td>1.133230</td>\n",
       "    </tr>\n",
       "    <tr>\n",
       "      <th>DEN</th>\n",
       "      <td>-0.554872</td>\n",
       "      <td>4.099473</td>\n",
       "      <td>-5.712510</td>\n",
       "      <td>-0.180272</td>\n",
       "      <td>-6.932327</td>\n",
       "      <td>2.792159</td>\n",
       "      <td>3.675416</td>\n",
       "    </tr>\n",
       "    <tr>\n",
       "      <th>HOU</th>\n",
       "      <td>-5.583764</td>\n",
       "      <td>5.837979</td>\n",
       "      <td>-1.463109</td>\n",
       "      <td>1.557126</td>\n",
       "      <td>9.113941</td>\n",
       "      <td>-1.076119</td>\n",
       "      <td>-0.155056</td>\n",
       "    </tr>\n",
       "    <tr>\n",
       "      <th>DAL</th>\n",
       "      <td>-1.831480</td>\n",
       "      <td>9.198149</td>\n",
       "      <td>-1.033097</td>\n",
       "      <td>1.689042</td>\n",
       "      <td>-0.478117</td>\n",
       "      <td>0.431725</td>\n",
       "      <td>1.454609</td>\n",
       "    </tr>\n",
       "  </tbody>\n",
       "</table>\n",
       "</div>"
      ],
      "text/plain": [
       "             1          2          3         4         5         6         7\n",
       "OKC  -1.439415   2.535006  -4.762177 -5.166605  6.907563 -5.927464 -2.866416\n",
       "LAC   2.436766   7.299404   0.851785 -1.033189 -4.107081  1.026468  3.964831\n",
       "CHI   2.402747   2.180484  -1.720908 -4.027932 -0.588262  2.706277  3.334578\n",
       "CLE   9.084803   2.080809  -6.327890 -1.878451  3.431596 -5.029743  1.388255\n",
       "NOP  -1.117046  -4.029019  -7.264824  1.336803 -7.905472 -5.187911 -0.955325\n",
       "SAC  -0.416959  -4.332712  -1.501050  0.544153  2.430813 -0.175410  6.071753\n",
       "MIA  -0.480633  15.793501  -7.813896  1.197299 -1.804341 -3.221091  2.144116\n",
       "GSW  -4.252655   4.888057   0.796552  3.219079  2.539509  4.594813  0.184762\n",
       "LAL   7.968042   4.469835  -1.901153 -0.275525 -3.897805 -2.239540  0.370130\n",
       "POR  -7.170858   4.447860   1.273271  1.878345  2.083885  1.321922  0.777341\n",
       "PHO   0.968032   3.686188  -0.266614 -1.653577 -4.588898  3.665524  5.697901\n",
       "NYK   8.431203   7.781060  -7.262336 -2.484035 -3.501808 -0.150039 -3.150017\n",
       "PHI   6.402432   0.717005  -2.121260  3.364775 -6.673826 -1.091050 -1.048048\n",
       "MIN  -3.726520  -1.685733  -1.410275  2.330497  4.947296  0.690350  0.617033\n",
       "BOS  -0.217341   5.816805  -3.437022  2.148556 -1.483477  2.608063  1.017542\n",
       "IND  -0.551146  -7.270364   1.682555 -1.813063  1.289052  3.694251  3.647105\n",
       "MIL -10.066066  -1.538496   0.326255 -4.289107 -7.582208 -1.524863  0.435339\n",
       "TOR  -3.719147  10.532497  -6.499299  5.152460  2.384441  3.735521 -0.170933\n",
       "MEM   1.161878  -4.282042  -5.614030 -3.569968 -5.156236  2.265608 -0.533624\n",
       "BRK  -5.905375   0.976596   1.934215  1.998773 -4.159569 -1.479905  3.688379\n",
       "UTA  -4.789765   9.637645  12.956596 -1.805274 -1.239691 -1.278123 -1.099703\n",
       "DET   6.814184   4.012649  -1.556864  1.565943  3.990748 -2.723444  0.641060\n",
       "ORL   2.831232   1.491087  -8.133598 -6.720922  4.098629 -5.278065 -3.503010\n",
       "ATL   1.387143   1.240640   0.155353  1.636119 -3.195336 -3.635719  0.368526\n",
       "CHO  -4.165004   8.978007  -6.712520 -2.650720  0.004403 -3.044504  0.391611\n",
       "WAS   0.647155 -13.818075  -2.809008  3.890278 -2.588940 -0.353898 -0.420109\n",
       "SAS   5.452430  -7.230248  -3.858342 -5.775438 -1.424407 -1.060104  1.133230\n",
       "DEN  -0.554872   4.099473  -5.712510 -0.180272 -6.932327  2.792159  3.675416\n",
       "HOU  -5.583764   5.837979  -1.463109  1.557126  9.113941 -1.076119 -0.155056\n",
       "DAL  -1.831480   9.198149  -1.033097  1.689042 -0.478117  0.431725  1.454609"
      ]
     },
     "execution_count": 36,
     "metadata": {},
     "output_type": "execute_result"
    }
   ],
   "source": [
    "teamMapping = thisSeason['Tm'].to_dict()\n",
    "thisSeason = thisSeason.reindex(columns=list(range(1,nBasis+1)))\n",
    "thisSeason.rename(index=teamMapping,inplace=True)\n",
    "thisSeason"
   ]
  },
  {
   "cell_type": "code",
   "execution_count": 37,
   "id": "5a33c89b",
   "metadata": {},
   "outputs": [
    {
     "data": {
      "text/plain": [
       "<AxesSubplot:>"
      ]
     },
     "execution_count": 37,
     "metadata": {},
     "output_type": "execute_result"
    },
    {
     "data": {
      "image/png": "[encoded data removed]",
      "text/plain": [
       "<Figure size 432x288 with 1 Axes>"
      ]
     },
     "metadata": {
      "needs_background": "light"
     },
     "output_type": "display_data"
    }
   ],
   "source": [
    "thisSeason.loc[['DEN','LAL']].plot(kind='bar')"
   ]
  },
  {
   "cell_type": "code",
   "execution_count": 38,
   "id": "d0ee236f",
   "metadata": {},
   "outputs": [],
   "source": [
    "covVecNames = {1 : 'SIBO',\n",
    "              2 : 'TOBI',\n",
    "              3 : 'MSM',\n",
    "              4 : 'PHYS',\n",
    "              5 : 'SQUA',\n",
    "              6 : 'FOUL',\n",
    "              7 : 'ALL*'}\n",
    "thisSeason.rename(columns=covVecNames,inplace=True)"
   ]
  },
  {
   "cell_type": "code",
   "execution_count": 39,
   "id": "b0592442",
   "metadata": {},
   "outputs": [
    {
     "data": {
      "text/plain": [
       "<AxesSubplot:>"
      ]
     },
     "execution_count": 39,
     "metadata": {},
     "output_type": "execute_result"
    },
    {
     "data": {
      "image/png": "[encoded data removed]",
      "text/plain": [
       "<Figure size 432x288 with 1 Axes>"
      ]
     },
     "metadata": {
      "needs_background": "light"
     },
     "output_type": "display_data"
    }
   ],
   "source": [
    "thisSeason.loc[['DEN','UTA','LAC','GSW']].plot(kind='bar')"
   ]
  },
  {
   "cell_type": "code",
   "execution_count": 40,
   "id": "2aa25b89",
   "metadata": {},
   "outputs": [
    {
     "data": {
      "text/plain": [
       "<AxesSubplot:>"
      ]
     },
     "execution_count": 40,
     "metadata": {},
     "output_type": "execute_result"
    },
    {
     "data": {
      "image/png": "[encoded data removed]",
      "text/plain": [
       "<Figure size 432x288 with 1 Axes>"
      ]
     },
     "metadata": {
      "needs_background": "light"
     },
     "output_type": "display_data"
    }
   ],
   "source": [
    "thisSeason.loc[['MIL','BRK','PHI','ATL']].plot(kind='bar')"
   ]
  },
  {
   "cell_type": "code",
   "execution_count": 41,
   "id": "63267858",
   "metadata": {},
   "outputs": [
    {
     "data": {
      "text/plain": [
       "<AxesSubplot:>"
      ]
     },
     "execution_count": 41,
     "metadata": {},
     "output_type": "execute_result"
    },
    {
     "data": {
      "image/png": "[encoded data removed]",
      "text/plain": [
       "<Figure size 432x288 with 1 Axes>"
      ]
     },
     "metadata": {
      "needs_background": "light"
     },
     "output_type": "display_data"
    }
   ],
   "source": [
    "thisSeason.loc[['NOP','CHI']].plot(kind='bar')"
   ]
  },
  {
   "cell_type": "code",
   "execution_count": null,
   "id": "48fc7b8b",
   "metadata": {},
   "outputs": [],
   "source": []
  }
 ],
 "metadata": {
  "kernelspec": {
   "display_name": "Python 3",
   "language": "python",
   "name": "python3"
  },
  "language_info": {
   "codemirror_mode": {
    "name": "ipython",
    "version": 3
   },
   "file_extension": ".py",
   "mimetype": "text/x-python",
   "name": "python",
   "nbconvert_exporter": "python",
   "pygments_lexer": "ipython3",
   "version": "3.9.2"
  }
 },
 "nbformat": 4,
 "nbformat_minor": 5
}
