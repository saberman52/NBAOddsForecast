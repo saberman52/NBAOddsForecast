{
 "cells": [
  {
   "cell_type": "code",
   "execution_count": 1,
   "id": "89b94ddb",
   "metadata": {},
   "outputs": [],
   "source": [
    "import pandas as pd\n",
    "import numpy as np\n",
    "from scipy.integrate import odeint"
   ]
  },
  {
   "cell_type": "markdown",
   "id": "8804bbc4",
   "metadata": {},
   "source": [
    "# Function declarations"
   ]
  },
  {
   "cell_type": "code",
   "execution_count": 2,
   "id": "d6b991cc",
   "metadata": {},
   "outputs": [],
   "source": [
    "def loadGameData(initialSeason,finalSeason):\n",
    "    '''\n",
    "    loadGameData loads each season of game data into a single table, with columns\n",
    "    Season, Visitor/Neutral, Home/Neutral, VisitorWin.\n",
    "    \n",
    "    Inputs: \n",
    "    initialSeason    :    first season (second year of season) to include (int)\n",
    "    finalSeason      :    last season to include (inclusive) (int)\n",
    "    \n",
    "    Outputs:\n",
    "    dataset          :    pandas dataframe of format described above\n",
    "    '''\n",
    "    seasonTables = [] # to store tables from each season\n",
    "    \n",
    "    # loop over and download each season's data\n",
    "    for season in range(initialSeason,finalSeason+1):\n",
    "        print('Dowloading',season,'season data...')\n",
    "        table = pd.read_hdf('pyData/games'+str(season)+'.h5','table')\n",
    "        table = table.reindex(columns=['Season','Visitor/Neutral','Home/Neutral','VisitorWin'])\n",
    "        seasonStr = str(season)\n",
    "        table['Season'] = str(season-1)+'-'+seasonStr[2:4] # format season in same way as PCA\n",
    "        seasonTables.append(table)\n",
    "        print('##################################')\n",
    "    \n",
    "    dataset = pd.concat(seasonTables)\n",
    "    return dataset\n",
    "\n",
    "def generatePCAVectors(dataFile,seasonToExclude):\n",
    "    '''\n",
    "    generataPCAVectors creates the PCA vectors for a subset of the team season-average stat data.\n",
    "    \n",
    "    Inputs:\n",
    "    dataFile - name of the file containing every team's season-average stat data\n",
    "    seasonToExclude - season to be removed from data set\n",
    "    \n",
    "    Outputs:\n",
    "    statMean - mean of each statistical category included in dataset\n",
    "    topVectors - top 7 covariance vectors (rows - stat catgory; columns - index in decreasing eigenvalue order)\n",
    "    '''\n",
    "    # load data\n",
    "    dfTeamData = pd.read_hdf(dataFile)\n",
    "    dfTeamData = dfTeamData[dfTeamData['Season'] != seasonToExclude]\n",
    "    \n",
    "    # compute PCA vectors\n",
    "    teamDataMat = (dfTeamData.loc[:,'FG':'oppPTS']).to_numpy()\n",
    "    statMean = np.mean(teamDataMat,axis=0) # Mean subtraction\n",
    "    teamDataZero = teamDataMat - statMean\n",
    "    N = teamDataZero.shape[0]\n",
    "    covMat = 1/N*np.dot(teamDataZero.T,teamDataZero) # covariance matrix\n",
    "    covLam,covVec = np.linalg.eig(covMat) # diagonlize\n",
    "    inds = np.argsort(covLam) # get indexes of sorted eigenvalues\n",
    "    topVectors = covVec[:,inds[:-8:-1]] #  covariance eigenvectors of top 7 eigenvalues\n",
    "    \n",
    "    # return covariance eigenvectors and means of each stat category\n",
    "    return statMean,topVectors\n",
    "\n",
    "def generateInputOutputData(statMean,PCABasis,dataset,statDataFile):\n",
    "    '''\n",
    "    generateInputOutputData converts tables of NBA game outcomes into a NumPy matrix giving the PCA components of each\n",
    "    team and the outcome of the game as a 1 (visitor win) or 0.\n",
    "    \n",
    "    Inputs:\n",
    "    statMean - mean of each team season average statistical category\n",
    "    PCABasis - matrix whose columns are the PCA basis vectors\n",
    "    dataset - table (pd.DataFrame) of matchups and game outcomes\n",
    "    statDataFile - name of file containing team season average stats\n",
    "    \n",
    "    Outputs:\n",
    "    trainingData - matrix where each row is one game, and if n is number of PCA basis vectors, then\n",
    "                    - first n columns are visiting team's PCA components,\n",
    "                    - second n columns are home team's PCA components,\n",
    "                    - final column is 1.0 if visiting team won; 0 otherwise.\n",
    "    '''\n",
    "    # convert team stat data to data dictionary\n",
    "    dfTeamData = pd.read_hdf(statDataFile) # load team stat data\n",
    "    # convert CHH to CHO for (first year of) season <= 2001\n",
    "    seasonInts = dfTeamData['Season'].map(lambda x : int(x[0:4]))\n",
    "    teamAbbrev = dfTeamData['Tm']\n",
    "    dfTeamData.loc[(seasonInts <= 2001) & (teamAbbrev == 'CHH'),'Tm'] = 'CHO'\n",
    "    # proceed with data dictionary\n",
    "    seasonTm = dfTeamData[['Season','Tm']]\n",
    "    keys = list(seasonTm.itertuples(index=False,name=None)) # keys for stat data dictionary\n",
    "    teamDataMat = (dfTeamData.loc[:,'FG':'oppPTS']).to_numpy()\n",
    "    teamDataZero = teamDataMat - statMean\n",
    "    teamPCA = np.dot(teamDataZero,PCABasis) # values for stat data dictionary\n",
    "    teamDataDict = dict(zip(keys,teamPCA))\n",
    "    \n",
    "    # convert dataset to set of keys for each team and output values (1 if True, 0 otherwise)\n",
    "    seasonTmVis = dataset[['Season','Visitor/Neutral']]\n",
    "    x_aKeys = pd.Series(list(seasonTmVis.itertuples(index=False,name=None)),name='x_a')\n",
    "    seasonTmHom = dataset[['Season','Home/Neutral']]\n",
    "    x_bKeys = pd.Series(list(seasonTmHom.itertuples(index=False,name=None)),name='x_b')\n",
    "    y = (dataset['VisitorWin'].map(float)).to_numpy()\n",
    "    \n",
    "    \n",
    "    # convert keys and output values into a single matrix, each row containing each teams PCA components and the outcome \n",
    "    x_aPCA = np.stack(x_aKeys.map(teamDataDict))\n",
    "    x_bPCA = np.stack(x_bKeys.map(teamDataDict))\n",
    "    trainingData = np.vstack((x_aPCA.T,x_bPCA.T,y)).T\n",
    "\n",
    "    return trainingData\n",
    "\n",
    "def sigma(a):\n",
    "    '''sigmoid function'''\n",
    "    return 1./(1.+np.exp(-a))\n",
    "\n",
    "def wVel(w,t,x,y):\n",
    "    '''\n",
    "    wVel evaluates velocity dw/dt = -dE/dw of logistic model, where E is error function.\n",
    "    \n",
    "    Inputs:\n",
    "    t - current integration time\n",
    "    w - array of current values of logistic model parameters\n",
    "    x - matrix of training data predictors. each row is a different data point;\n",
    "        assume first column is all ones, remaining columns are values of predictor variables\n",
    "    y - array of training data outcomes    \n",
    "        \n",
    "    Outputs:\n",
    "    -dE/dw - velocity of parameters (-)\n",
    "    '''\n",
    "    sigmaN = sigma(np.dot(x,w))\n",
    "    dEdw = np.dot(x.T,sigmaN-y)\n",
    "    return -dEdw\n",
    "\n",
    "def logisticInt(w0,T,x,y):\n",
    "    '''\n",
    "    logisticInt performs gradient descent (dw/dt = -dE/dw) on the logistic regression model.\n",
    "    \n",
    "    Inputs:\n",
    "    w0 - initial set of parameters of the model\n",
    "    T - total time to integrate for\n",
    "    x - set of predictor data (each row is a different data point, first column is ones)\n",
    "    y - set of outcome data\n",
    "    \n",
    "    Outputs:\n",
    "    w - final parameters after integration\n",
    "    dEdw - gradient of error function at the end of integration\n",
    "    Et - value of error function as a function of time\n",
    "    tt - time steps\n",
    "    '''\n",
    "    # perform gradient descent\n",
    "    nSteps = 100\n",
    "    tt = np.linspace(0,T,nSteps+1)\n",
    "    wt = odeint(wVel,w0,tt,(x,y))\n",
    "    \n",
    "    # gather observables\n",
    "    w = wt[-1]\n",
    "    dEdw = -wVel(w,0,x,y)\n",
    "    # calculation of error as function of time\n",
    "    sigmaNT = sigma(wt @ x.T)\n",
    "    Et = -(np.dot(np.log(sigmaNT),y) + np.dot(np.log(1.-sigmaNT),1.-y))\n",
    "    \n",
    "    return w,dEdw,Et,tt\n"
   ]
  },
  {
   "cell_type": "markdown",
   "id": "5a29292b",
   "metadata": {},
   "source": [
    "# Train Logistic regression model on 2001-02 to 2020-21 season data"
   ]
  },
  {
   "cell_type": "markdown",
   "id": "56b534d2",
   "metadata": {},
   "source": [
    "Run <code>loadGameData</code> to extract a table with all the training data, 2000-01 to 2019-20 seasons."
   ]
  },
  {
   "cell_type": "code",
   "execution_count": 3,
   "id": "3cbdb630",
   "metadata": {},
   "outputs": [
    {
     "name": "stdout",
     "output_type": "stream",
     "text": [
      "Dowloading 2002 season data...\n",
      "##################################\n",
      "Dowloading 2003 season data...\n",
      "##################################\n",
      "Dowloading 2004 season data...\n",
      "##################################\n",
      "Dowloading 2005 season data...\n",
      "##################################\n",
      "Dowloading 2006 season data...\n",
      "##################################\n",
      "Dowloading 2007 season data...\n",
      "##################################\n",
      "Dowloading 2008 season data...\n",
      "##################################\n",
      "Dowloading 2009 season data...\n",
      "##################################\n",
      "Dowloading 2010 season data...\n",
      "##################################\n",
      "Dowloading 2011 season data...\n",
      "##################################\n",
      "Dowloading 2012 season data...\n",
      "##################################\n",
      "Dowloading 2013 season data...\n",
      "##################################\n",
      "Dowloading 2014 season data...\n",
      "##################################\n",
      "Dowloading 2015 season data...\n",
      "##################################\n",
      "Dowloading 2016 season data...\n",
      "##################################\n",
      "Dowloading 2017 season data...\n",
      "##################################\n",
      "Dowloading 2018 season data...\n",
      "##################################\n",
      "Dowloading 2019 season data...\n",
      "##################################\n",
      "Dowloading 2020 season data...\n",
      "##################################\n",
      "Dowloading 2021 season data...\n",
      "##################################\n"
     ]
    }
   ],
   "source": [
    "dataset = loadGameData(2002,2021)"
   ]
  },
  {
   "cell_type": "markdown",
   "id": "8c118479",
   "metadata": {},
   "source": [
    "Create PCA vectors for the teams in these seasons."
   ]
  },
  {
   "cell_type": "code",
   "execution_count": 4,
   "id": "01442427",
   "metadata": {},
   "outputs": [],
   "source": [
    "statMean,topV = generatePCAVectors('pyData/regSeasonData.h5','2000-01')"
   ]
  },
  {
   "cell_type": "markdown",
   "id": "8d1a96fc",
   "metadata": {},
   "source": [
    "Generate training data."
   ]
  },
  {
   "cell_type": "code",
   "execution_count": 5,
   "id": "d13ab504",
   "metadata": {
    "scrolled": true
   },
   "outputs": [],
   "source": [
    "trainingData = generateInputOutputData(statMean,topV,dataset,'pyData/regSeasonData.h5')"
   ]
  },
  {
   "cell_type": "markdown",
   "id": "fb385fee",
   "metadata": {},
   "source": [
    "Train the model."
   ]
  },
  {
   "cell_type": "code",
   "execution_count": 6,
   "id": "9761b9ed",
   "metadata": {
    "scrolled": true
   },
   "outputs": [],
   "source": [
    "n = trainingData.shape[0] # # of data points\n",
    "x = np.hstack([np.ones((n,1)),trainingData[:,:-1]]) # training data\n",
    "y = trainingData[:,-1] # outcomes\n",
    "nw = x.shape[1]\n",
    "\n",
    "w0 = np.zeros((nw,)) # initial condition\n",
    "T = 1 # integration time\n",
    "\n",
    "w,dEdw,Et,tt = logisticInt(w0,T,x,y)"
   ]
  },
  {
   "cell_type": "markdown",
   "id": "d8d265a6",
   "metadata": {},
   "source": [
    "Print model coefficients."
   ]
  },
  {
   "cell_type": "code",
   "execution_count": 11,
   "id": "e0a988c1",
   "metadata": {},
   "outputs": [
    {
     "data": {
      "text/plain": [
       "array([-0.3840704 , -0.01434259, -0.03438915,  0.058654  , -0.00311654,\n",
       "       -0.11415171,  0.02359393, -0.01524577,  0.01094597,  0.02315544,\n",
       "       -0.06196125,  0.00262423,  0.12908761, -0.02927948,  0.01771595])"
      ]
     },
     "execution_count": 11,
     "metadata": {},
     "output_type": "execute_result"
    }
   ],
   "source": [
    "w"
   ]
  },
  {
   "cell_type": "markdown",
   "id": "f18e54cb",
   "metadata": {},
   "source": [
    "Print statMean."
   ]
  },
  {
   "cell_type": "code",
   "execution_count": 12,
   "id": "67bd6a25",
   "metadata": {},
   "outputs": [
    {
     "data": {
      "text/plain": [
       "array([ 37.67788945,  82.94857621,   0.45416248,   7.6681742 ,\n",
       "        21.46046901,   0.35549079,  30.01524288,  61.48693467,\n",
       "         0.48955276,  18.09296482,  23.83366834,   0.75986767,\n",
       "        10.97889447,  31.65527638,  42.63031826,  22.12512563,\n",
       "         7.58308208,   4.88425461,  14.41055276,  20.84706868,\n",
       "       101.12026801,  37.68492462,  82.94907873,   0.4541474 ,\n",
       "         7.66834171,  21.45862647,   0.35648409,  30.01490787,\n",
       "        61.48944724,   0.48927973,  18.09564489,  23.83433836,\n",
       "         0.75940704,  10.97554439,  31.65661642,  42.63350084,\n",
       "        22.12579564,   7.58442211,   4.88509213,  14.40871022,\n",
       "        20.84572864, 101.12713568])"
      ]
     },
     "execution_count": 12,
     "metadata": {},
     "output_type": "execute_result"
    }
   ],
   "source": [
    "statMean"
   ]
  },
  {
   "cell_type": "markdown",
   "id": "e910c02c",
   "metadata": {},
   "source": [
    "Print PCA basis."
   ]
  },
  {
   "cell_type": "code",
   "execution_count": 13,
   "id": "237ed953",
   "metadata": {},
   "outputs": [
    {
     "data": {
      "text/plain": [
       "array([[-1.25891739e-01,  1.17113673e-01,  4.16749492e-02,\n",
       "        -5.67605167e-02, -2.09278425e-01,  1.55117145e-01,\n",
       "        -1.67320966e-01],\n",
       "       [-2.11566440e-01,  2.07785347e-01, -4.96418860e-02,\n",
       "        -2.08234093e-01,  3.72990567e-03,  3.01820692e-01,\n",
       "         2.32981406e-01],\n",
       "       [-3.52156558e-04,  2.73363084e-04,  7.79591334e-04,\n",
       "         4.71495547e-04, -2.53032510e-03,  2.02950153e-04,\n",
       "        -3.32325960e-03],\n",
       "       [-1.66281818e-01, -1.16306862e-01,  1.21650035e-01,\n",
       "         1.21116268e-03,  3.46076588e-02,  9.42851387e-02,\n",
       "        -2.15439778e-02],\n",
       "       [-4.50657361e-01, -3.00713379e-01,  2.60249293e-01,\n",
       "         1.17175352e-03,  1.85914548e-01,  1.84664250e-01,\n",
       "         1.13299422e-01],\n",
       "       [-2.95931858e-04, -4.20821357e-04,  1.47087155e-03,\n",
       "         6.03016896e-05, -1.21986296e-03,  1.41160637e-03,\n",
       "        -2.89117494e-03],\n",
       "       [ 4.05540896e-02,  2.33413554e-01, -8.01139139e-02,\n",
       "        -5.82855381e-02, -2.44382843e-01,  6.14080767e-02,\n",
       "        -1.47570189e-01],\n",
       "       [ 2.39054116e-01,  5.09105344e-01, -3.09219246e-01,\n",
       "        -2.09304035e-01, -1.81882708e-01,  1.16997325e-01,\n",
       "         1.19384488e-01],\n",
       "       [-1.30887051e-03, -2.94475953e-04,  1.20994174e-03,\n",
       "         7.44615541e-04, -2.53027735e-03,  4.96394611e-05,\n",
       "        -3.25252381e-03],\n",
       "       [ 2.33997384e-02,  9.85625842e-02,  1.12174019e-01,\n",
       "         3.12637844e-01, -1.03219354e-01, -2.61955047e-01,\n",
       "         1.00275327e-01],\n",
       "       [ 4.47206296e-02,  1.20908574e-01,  1.43028826e-01,\n",
       "         4.14008049e-01, -1.05787585e-01, -3.70484065e-01,\n",
       "         2.27085181e-01],\n",
       "       [-4.58838329e-04,  2.54290233e-04,  2.02451765e-04,\n",
       "        -5.42915266e-05, -1.05072402e-03,  8.47429349e-04,\n",
       "        -3.05386738e-03],\n",
       "       [ 4.09116527e-02,  7.81955677e-02, -8.00132157e-03,\n",
       "         6.84515737e-03, -1.41763026e-02,  4.43608559e-03,\n",
       "         1.95299662e-01],\n",
       "       [-1.11348130e-01, -1.37992740e-02,  8.52441170e-02,\n",
       "        -1.19306842e-01, -1.72348067e-01, -3.08300097e-02,\n",
       "         3.13121272e-01],\n",
       "       [-7.04350585e-02,  6.40574486e-02,  7.74233359e-02,\n",
       "        -1.12467911e-01, -1.87227336e-01, -2.64566651e-02,\n",
       "         5.08498599e-01],\n",
       "       [-8.00948139e-02,  5.03018453e-02,  4.17156187e-02,\n",
       "        -7.06667754e-02, -1.91111273e-01,  1.95938327e-01,\n",
       "        -1.43783458e-01],\n",
       "       [-4.58802141e-03,  7.73912994e-03, -1.83594656e-02,\n",
       "         2.04972979e-02, -3.52211704e-02,  7.59772898e-02,\n",
       "         2.16037247e-02],\n",
       "       [ 3.27195731e-03,  1.57697245e-02,  3.80944587e-02,\n",
       "        -1.76731936e-02, -5.49938827e-02,  6.13268541e-03,\n",
       "         6.74784885e-02],\n",
       "       [ 1.02173529e-02,  3.63819254e-02, -8.51755496e-03,\n",
       "         7.43030244e-02,  6.94114924e-02, -6.31883163e-02,\n",
       "         1.24143425e-01],\n",
       "       [ 3.23651324e-02,  5.79558116e-02, -3.99043045e-02,\n",
       "         2.70105246e-01,  6.98442981e-02,  2.21026445e-01,\n",
       "         1.49154296e-01],\n",
       "       [-3.94593558e-01,  2.17009108e-01,  3.17313219e-01,\n",
       "         1.99301424e-01, -4.85549490e-01,  1.44949443e-01,\n",
       "        -2.54427822e-01],\n",
       "       [-1.30217488e-01,  1.70333470e-01,  3.84096558e-03,\n",
       "        -5.61361669e-02,  1.61059348e-01, -1.74350876e-01,\n",
       "        -1.60686627e-01],\n",
       "       [-2.22916646e-01,  2.21583466e-01,  1.81306436e-01,\n",
       "        -2.14740481e-01,  2.89823450e-02, -2.22434847e-01,\n",
       "         1.73378911e-01],\n",
       "       [-3.47751389e-04,  8.59453178e-04, -9.38727818e-04,\n",
       "         4.93962974e-04,  1.77830674e-03, -8.70903156e-04,\n",
       "        -2.91785132e-03],\n",
       "       [-1.48420013e-01, -1.67158512e-02, -1.63286409e-01,\n",
       "         1.12891765e-03, -3.48444858e-02, -9.23720797e-02,\n",
       "         2.12453505e-02],\n",
       "       [-4.04832191e-01, -7.53636774e-02, -3.95611155e-01,\n",
       "        -2.99786781e-02, -1.61373265e-01, -2.13768887e-01,\n",
       "         1.41210745e-01],\n",
       "       [-1.71278917e-04,  5.45725801e-04, -9.68038530e-04,\n",
       "         7.06163188e-04,  1.08450259e-03, -6.84025944e-04,\n",
       "        -1.41732765e-03],\n",
       "       [ 1.80829156e-02,  1.86783625e-01,  1.67125308e-01,\n",
       "        -5.76035071e-02,  1.96432625e-01, -8.16031910e-02,\n",
       "        -1.81399422e-01],\n",
       "       [ 1.82009174e-01,  2.97330950e-01,  5.77031711e-01,\n",
       "        -1.85211291e-01,  1.91238933e-01, -9.04402489e-03,\n",
       "         3.28997462e-02],\n",
       "       [-1.20549517e-03,  6.39505509e-04, -1.91364957e-03,\n",
       "         4.78771743e-04,  1.64680969e-03, -1.29182094e-03,\n",
       "        -3.17796071e-03],\n",
       "       [ 2.70926605e-02,  9.19927516e-02, -5.17242768e-02,\n",
       "         3.12750007e-01,  1.01545788e-01,  3.04314381e-01,\n",
       "         9.06125963e-02],\n",
       "       [ 4.78352233e-02,  1.17905241e-01, -5.37684846e-02,\n",
       "         4.05907864e-01,  1.31429205e-01,  4.03629383e-01,\n",
       "         1.41105140e-01],\n",
       "       [-4.04717145e-04,  9.19540916e-05, -4.89990829e-04,\n",
       "         1.86091865e-04,  4.99712075e-05, -1.23122696e-04,\n",
       "        -6.68269760e-04],\n",
       "       [ 3.00669885e-02,  7.83059661e-02,  7.39656546e-02,\n",
       "         3.14339611e-04,  6.55921009e-02,  1.10495161e-02,\n",
       "         4.82721432e-03],\n",
       "       [-1.17015023e-01,  1.75412842e-02, -4.99861619e-02,\n",
       "        -1.19259711e-01,  2.05375610e-01,  1.01529939e-01,\n",
       "         1.75582143e-01],\n",
       "       [-8.68134269e-02,  9.57875204e-02,  2.31558466e-02,\n",
       "        -1.19425381e-01,  2.71131439e-01,  1.12583510e-01,\n",
       "         1.81364604e-01],\n",
       "       [-8.38339393e-02,  1.11545072e-01, -1.26604751e-01,\n",
       "        -2.83661820e-02,  1.38822135e-01, -1.40356680e-01,\n",
       "        -3.75809802e-02],\n",
       "       [-4.80809446e-03,  3.02057893e-02,  1.36566218e-03,\n",
       "         4.73197035e-03,  4.64760904e-02, -2.58905822e-02,\n",
       "         6.91374688e-02],\n",
       "       [ 2.87858835e-03,  3.21373180e-02, -4.17035375e-02,\n",
       "         8.34704800e-03,  3.96671550e-02, -3.89856802e-02,\n",
       "         8.28026361e-02],\n",
       "       [ 7.43176159e-03,  1.33898492e-02, -3.50575705e-02,\n",
       "         7.49028470e-02, -1.34117479e-02,  1.41030632e-01,\n",
       "         1.01824699e-02],\n",
       "       [ 2.95723125e-02,  5.10775154e-02,  7.63156060e-02,\n",
       "         2.46217149e-01, -5.98751771e-02, -1.39310054e-01,\n",
       "         1.58319098e-01],\n",
       "       [-3.81844433e-01,  4.16659663e-01, -2.07678749e-01,\n",
       "         2.00577342e-01,  3.88600549e-01, -1.34602976e-01,\n",
       "        -2.08618352e-01]])"
      ]
     },
     "execution_count": 13,
     "metadata": {},
     "output_type": "execute_result"
    }
   ],
   "source": [
    "topV"
   ]
  },
  {
   "cell_type": "code",
   "execution_count": null,
   "id": "307e2b41",
   "metadata": {},
   "outputs": [],
   "source": []
  }
 ],
 "metadata": {
  "kernelspec": {
   "display_name": "Python 3",
   "language": "python",
   "name": "python3"
  },
  "language_info": {
   "codemirror_mode": {
    "name": "ipython",
    "version": 3
   },
   "file_extension": ".py",
   "mimetype": "text/x-python",
   "name": "python",
   "nbconvert_exporter": "python",
   "pygments_lexer": "ipython3",
   "version": "3.9.2"
  }
 },
 "nbformat": 4,
 "nbformat_minor": 5
}
